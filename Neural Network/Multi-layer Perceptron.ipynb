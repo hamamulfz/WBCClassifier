{
 "cells": [
  {
   "cell_type": "code",
   "execution_count": 1,
   "metadata": {},
   "outputs": [
    {
     "name": "stdout",
     "output_type": "stream",
     "text": [
      "MLPClassifier(activation='relu', alpha=1e-05, batch_size='auto', beta_1=0.9,\n",
      "       beta_2=0.999, early_stopping=False, epsilon=1e-08,\n",
      "       hidden_layer_sizes=(10, 4), learning_rate='constant',\n",
      "       learning_rate_init=0.001, max_iter=200, momentum=0.9,\n",
      "       nesterovs_momentum=True, power_t=0.5, random_state=1, shuffle=True,\n",
      "       solver='lbfgs', tol=0.0001, validation_fraction=0.1, verbose=False,\n",
      "       warm_start=False)\n"
     ]
    }
   ],
   "source": [
    "from sklearn.neural_network import MLPClassifier\n",
    "X = [[0., 0.], [0., 1.], [1., 0.], [1., 1.]]\n",
    "y = [0, 0, 0, 1]\n",
    "clf = MLPClassifier(solver='lbfgs', alpha=1e-5,\n",
    "                    hidden_layer_sizes=(10, 4), random_state=1)\n",
    "print(clf.fit(X, y))"
   ]
  },
  {
   "cell_type": "code",
   "execution_count": 2,
   "metadata": {},
   "outputs": [
    {
     "name": "stdout",
     "output_type": "stream",
     "text": [
      "weights between input and first hidden layer:\n",
      "[[ 0.14747085 -2.53567829 -0.63466857  2.34796821 -0.30939576  3.07982827\n",
      "  -0.39833268 -0.19608036 -0.13106686 -2.74514922]\n",
      " [-0.70295982 -1.68387594 -0.37523557  2.13208477  0.62996866  2.500795\n",
      "  -0.1049921   0.07451422 -0.45657465 -1.54015716]]\n",
      "\n",
      "weights between first hidden and second hidden layer:\n",
      "[[-0.01228861 -0.09273378  0.66321279  0.58052423]\n",
      " [ 2.27394732  0.10733811  0.61443878  0.12232506]\n",
      " [-0.56622646  0.29403131  0.57463016  0.2917055 ]\n",
      " [-2.43156095 -1.86975093 -0.46638669 -3.15920397]\n",
      " [ 3.57230332 -0.24259557 -0.23617459  1.67210326]\n",
      " [-2.53007029 -3.68393844 -0.33896578 -3.04464469]\n",
      " [-0.0099053  -0.52499853  0.0871213  -0.41525174]\n",
      " [ 0.1049739   0.23480531 -0.46743469 -0.10102261]\n",
      " [ 0.22850703 -0.1008777  -0.52900573  0.04219431]\n",
      " [ 3.34188708 -1.11545353  0.76191296  1.46139969]]\n"
     ]
    }
   ],
   "source": [
    "print(\"weights between input and first hidden layer:\")\n",
    "print(clf.coefs_[0])\n",
    "print(\"\\nweights between first hidden and second hidden layer:\")\n",
    "print(clf.coefs_[1])"
   ]
  },
  {
   "cell_type": "code",
   "execution_count": 3,
   "metadata": {},
   "outputs": [
    {
     "name": "stdout",
     "output_type": "stream",
     "text": [
      "w0 =  0.14747084752547865\n",
      "w1 =  -0.7029598218778783\n"
     ]
    }
   ],
   "source": [
    "print(\"w0 = \", clf.coefs_[0][0][0])\n",
    "print(\"w1 = \", clf.coefs_[0][1][0])"
   ]
  },
  {
   "cell_type": "code",
   "execution_count": 4,
   "metadata": {},
   "outputs": [
    {
     "data": {
      "text/plain": [
       "array([ 0.14747085, -0.70295982])"
      ]
     },
     "execution_count": 4,
     "metadata": {},
     "output_type": "execute_result"
    }
   ],
   "source": [
    "clf.coefs_[0][:,0]"
   ]
  },
  {
   "cell_type": "code",
   "execution_count": 6,
   "metadata": {},
   "outputs": [
    {
     "name": "stdout",
     "output_type": "stream",
     "text": [
      "0 0 [ 0.14747085 -0.70295982], \n",
      "0 1 [-2.53567829 -1.68387594], \n",
      "0 2 [-0.63466857 -0.37523557], \n",
      "0 3 [2.34796821 2.13208477], \n",
      "0 4 [-0.30939576  0.62996866], \n",
      "0 5 [3.07982827 2.500795  ], \n",
      "0 6 [-0.39833268 -0.1049921 ], \n",
      "0 7 [-0.19608036  0.07451422], \n",
      "0 8 [-0.13106686 -0.45657465], \n",
      "0 9 [-2.74514922 -1.54015716], \n",
      "\n",
      "1 0 [-0.01228861  2.27394732 -0.56622646 -2.43156095  3.57230332 -2.53007029\n",
      " -0.0099053   0.1049739   0.22850703  3.34188708], \n",
      "1 1 [-0.09273378  0.10733811  0.29403131 -1.86975093 -0.24259557 -3.68393844\n",
      " -0.52499853  0.23480531 -0.1008777  -1.11545353], \n",
      "1 2 [ 0.66321279  0.61443878  0.57463016 -0.46638669 -0.23617459 -0.33896578\n",
      "  0.0871213  -0.46743469 -0.52900573  0.76191296], \n",
      "1 3 [ 0.58052423  0.12232506  0.2917055  -3.15920397  1.67210326 -3.04464469\n",
      " -0.41525174 -0.10102261  0.04219431  1.46139969], \n",
      "\n",
      "2 0 [-6.6595735   0.37938202  0.96404846  2.0213777 ], \n",
      "\n"
     ]
    }
   ],
   "source": [
    "for i in range(len(clf.coefs_)):\n",
    "    number_neurons_in_layer = clf.coefs_[i].shape[1]\n",
    "    for j in range(number_neurons_in_layer):\n",
    "        weights = clf.coefs_[i][:,j]\n",
    "        print(i, j, weights, end=\", \")\n",
    "        print()\n",
    "    print()"
   ]
  },
  {
   "cell_type": "code",
   "execution_count": 7,
   "metadata": {},
   "outputs": [
    {
     "name": "stdout",
     "output_type": "stream",
     "text": [
      "Bias values for first hidden layer:\n",
      "[-0.30942673  2.67999231 -0.26385806 -0.70886705  4.88438302 -0.35949096\n",
      " -0.5868361  -0.65187498 -0.4669303   4.41262962]\n",
      "\n",
      "Bias values for second hidden layer:\n",
      "[ 0.82822214 -2.95306665 -0.01317399 -1.06733506]\n"
     ]
    }
   ],
   "source": [
    "print(\"Bias values for first hidden layer:\")\n",
    "print(clf.intercepts_[0])\n",
    "print(\"\\nBias values for second hidden layer:\")\n",
    "print(clf.intercepts_[1])"
   ]
  },
  {
   "cell_type": "code",
   "execution_count": 8,
   "metadata": {},
   "outputs": [
    {
     "name": "stdout",
     "output_type": "stream",
     "text": [
      "[0 0 0 0 1 1 1 1]\n"
     ]
    }
   ],
   "source": [
    "result = clf.predict([[0, 0], [0, 1], \n",
    "                      [1, 0], [0, 1], \n",
    "                      [1, 1], [2., 2.],\n",
    "                      [1.3, 1.3], [2, 4.8]])\n",
    "print(result)"
   ]
  },
  {
   "cell_type": "code",
   "execution_count": 9,
   "metadata": {},
   "outputs": [],
   "source": [
    "y_test = [0, 0, 0, 0, 1, 1, 1, 1]"
   ]
  },
  {
   "cell_type": "code",
   "execution_count": 10,
   "metadata": {},
   "outputs": [
    {
     "name": "stdout",
     "output_type": "stream",
     "text": [
      "[[4 0]\n",
      " [0 4]]\n"
     ]
    }
   ],
   "source": [
    "from sklearn.metrics import classification_report,confusion_matrix\n",
    "print(confusion_matrix(y_test,result))"
   ]
  },
  {
   "cell_type": "code",
   "execution_count": 13,
   "metadata": {},
   "outputs": [
    {
     "name": "stdout",
     "output_type": "stream",
     "text": [
      "             precision    recall  f1-score   support\n",
      "\n",
      "          0       1.00      1.00      1.00         4\n",
      "          1       1.00      1.00      1.00         4\n",
      "\n",
      "avg / total       1.00      1.00      1.00         8\n",
      "\n"
     ]
    }
   ],
   "source": [
    "print(classification_report(y_test,result))"
   ]
  },
  {
   "cell_type": "code",
   "execution_count": 14,
   "metadata": {},
   "outputs": [
    {
     "name": "stdout",
     "output_type": "stream",
     "text": [
      "[[1.00000000e+00 1.31144193e-96]\n",
      " [1.00000000e+00 5.97955133e-64]\n",
      " [1.00000000e+00 1.46914152e-32]\n",
      " [1.00000000e+00 5.97955133e-64]\n",
      " [3.43841946e-04 9.99656158e-01]\n",
      " [3.43841946e-04 9.99656158e-01]\n",
      " [3.43841946e-04 9.99656158e-01]\n",
      " [3.43841946e-04 9.99656158e-01]]\n"
     ]
    }
   ],
   "source": [
    "prob_results = clf.predict_proba([[0, 0], [0, 1], \n",
    "                                  [1, 0], [0, 1], \n",
    "                                  [1, 1], [2., 2.], \n",
    "                                  [1.3, 1.3], [2, 4.8]])\n",
    "print(prob_results)"
   ]
  },
  {
   "cell_type": "code",
   "execution_count": null,
   "metadata": {},
   "outputs": [],
   "source": []
  }
 ],
 "metadata": {
  "kernelspec": {
   "display_name": "Python 3",
   "language": "python",
   "name": "python3"
  },
  "language_info": {
   "codemirror_mode": {
    "name": "ipython",
    "version": 3
   },
   "file_extension": ".py",
   "mimetype": "text/x-python",
   "name": "python",
   "nbconvert_exporter": "python",
   "pygments_lexer": "ipython3",
   "version": "3.6.4"
  }
 },
 "nbformat": 4,
 "nbformat_minor": 2
}
