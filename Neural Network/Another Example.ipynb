{
 "cells": [
  {
   "cell_type": "code",
   "execution_count": 7,
   "metadata": {},
   "outputs": [
    {
     "data": {
      "image/png": "[encoded data removed]",
      "text/plain": [
       "<matplotlib.figure.Figure at 0x7ffe7b8>"
      ]
     },
     "metadata": {},
     "output_type": "display_data"
    }
   ],
   "source": [
    "import numpy as np\n",
    "from matplotlib import pyplot as plt\n",
    "npoints = 50\n",
    "X, Y = [], []\n",
    "# class 0\n",
    "X.append(np.random.uniform(low=-2.5, high=2.3, size=(npoints,)) )\n",
    "Y.append(np.random.uniform(low=-1.7, high=2.8, size=(npoints,)))\n",
    "# class 1\n",
    "X.append(np.random.uniform(low=-7.2, high=-4.4, size=(npoints,)) )\n",
    "Y.append(np.random.uniform(low=3, high=6.5, size=(npoints,)))\n",
    "learnset = []\n",
    "learnlabels = []\n",
    "for i in range(2):\n",
    "    # adding points of class i to learnset\n",
    "    points = zip(X[i], Y[i])\n",
    "    for p in points:\n",
    "        learnset.append(p)\n",
    "        learnlabels.append(i)\n",
    "npoints_test = 3 * npoints\n",
    "TestX = np.random.uniform(low=-7.2, high=5, size=(npoints_test,)) \n",
    "TestY = np.random.uniform(low=-4, high=9, size=(npoints_test,))\n",
    "testset = []\n",
    "points = zip(TestX, TestY)\n",
    "for p in points:\n",
    "    testset.append(p)\n",
    "colours = [\"b\", \"r\"]\n",
    "for i in range(2):\n",
    "    plt.scatter(X[i], Y[i], c=colours[i])\n",
    "plt.scatter(TestX, TestY, c=\"g\")\n",
    "plt.show()\n"
   ]
  },
  {
   "cell_type": "code",
   "execution_count": 8,
   "metadata": {},
   "outputs": [
    {
     "name": "stdout",
     "output_type": "stream",
     "text": [
      "Iteration 1, loss = 0.53754370\n",
      "Iteration 2, loss = 0.48591524\n",
      "Iteration 3, loss = 0.44227462\n",
      "Iteration 4, loss = 0.40354702\n",
      "Iteration 5, loss = 0.37216911\n",
      "Iteration 6, loss = 0.33642651\n",
      "Iteration 7, loss = 0.30349609\n",
      "Iteration 8, loss = 0.27415533\n",
      "Iteration 9, loss = 0.24673700\n",
      "Iteration 10, loss = 0.22083978\n",
      "Iteration 11, loss = 0.19735591\n",
      "Iteration 12, loss = 0.17591729\n",
      "Iteration 13, loss = 0.15691077\n",
      "Iteration 14, loss = 0.13999961\n",
      "Iteration 15, loss = 0.12506686\n",
      "Iteration 16, loss = 0.11191619\n",
      "Iteration 17, loss = 0.10035574\n",
      "Iteration 18, loss = 0.09021034\n",
      "Iteration 19, loss = 0.08133466\n",
      "Iteration 20, loss = 0.07358729\n",
      "Iteration 21, loss = 0.06682904\n",
      "Iteration 22, loss = 0.06102876\n",
      "Iteration 23, loss = 0.05593729\n",
      "Iteration 24, loss = 0.05147671\n",
      "Iteration 25, loss = 0.04756990\n",
      "Iteration 26, loss = 0.04413890\n",
      "Iteration 27, loss = 0.04111239\n",
      "Iteration 28, loss = 0.03844205\n",
      "Iteration 29, loss = 0.03607015\n",
      "Iteration 30, loss = 0.03395630\n",
      "Iteration 31, loss = 0.03206525\n",
      "Iteration 32, loss = 0.03036709\n",
      "Iteration 33, loss = 0.02883746\n",
      "Iteration 34, loss = 0.02745645\n",
      "Iteration 35, loss = 0.02621099\n",
      "Iteration 36, loss = 0.02508618\n",
      "Iteration 37, loss = 0.02406135\n",
      "Iteration 38, loss = 0.02312541\n",
      "Iteration 39, loss = 0.02226861\n",
      "Iteration 40, loss = 0.02148229\n",
      "Iteration 41, loss = 0.02075876\n",
      "Iteration 42, loss = 0.02009126\n",
      "Iteration 43, loss = 0.01947382\n",
      "Iteration 44, loss = 0.01890123\n",
      "Iteration 45, loss = 0.01836894\n",
      "Iteration 46, loss = 0.01787294\n",
      "Iteration 47, loss = 0.01740973\n",
      "Iteration 48, loss = 0.01697623\n",
      "Iteration 49, loss = 0.01656977\n",
      "Iteration 50, loss = 0.01618815\n",
      "Iteration 51, loss = 0.01582888\n",
      "Iteration 52, loss = 0.01549002\n",
      "Iteration 53, loss = 0.01516983\n",
      "Iteration 54, loss = 0.01486672\n",
      "Iteration 55, loss = 0.01457931\n",
      "Iteration 56, loss = 0.01430629\n",
      "Iteration 57, loss = 0.01404651\n",
      "Iteration 58, loss = 0.01379893\n",
      "Iteration 59, loss = 0.01356262\n",
      "Iteration 60, loss = 0.01333674\n",
      "Iteration 61, loss = 0.01312053\n",
      "Iteration 62, loss = 0.01291331\n",
      "Iteration 63, loss = 0.01271443\n",
      "Iteration 64, loss = 0.01252334\n",
      "Iteration 65, loss = 0.01233951\n",
      "Iteration 66, loss = 0.01216248\n",
      "Iteration 67, loss = 0.01199181\n",
      "Iteration 68, loss = 0.01182709\n",
      "Iteration 69, loss = 0.01166796\n",
      "Iteration 70, loss = 0.01151408\n",
      "Iteration 71, loss = 0.01136516\n",
      "Iteration 72, loss = 0.01122090\n",
      "Iteration 73, loss = 0.01108104\n",
      "Iteration 74, loss = 0.01094533\n",
      "Iteration 75, loss = 0.01081309\n",
      "Iteration 76, loss = 0.01068456\n",
      "Iteration 77, loss = 0.01055956\n",
      "Iteration 78, loss = 0.01043793\n",
      "Iteration 79, loss = 0.01031951\n",
      "Iteration 80, loss = 0.01020424\n",
      "Iteration 81, loss = 0.01009192\n",
      "Iteration 82, loss = 0.00998240\n",
      "Iteration 83, loss = 0.00987554\n",
      "Iteration 84, loss = 0.00977125\n",
      "Iteration 85, loss = 0.00966940\n",
      "Iteration 86, loss = 0.00956989\n",
      "Iteration 87, loss = 0.00947265\n",
      "Iteration 88, loss = 0.00937757\n",
      "Training loss did not improve more than tol=0.000100 for two consecutive epochs. Stopping.\n",
      "Training set score: 1.000000\n",
      "Test set score: 1.000000\n"
     ]
    },
    {
     "data": {
      "text/plain": [
       "array([0, 1])"
      ]
     },
     "execution_count": 8,
     "metadata": {},
     "output_type": "execute_result"
    }
   ],
   "source": [
    "import matplotlib.pyplot as plt\n",
    "from sklearn.datasets import fetch_mldata\n",
    "from sklearn.neural_network import MLPClassifier\n",
    "mlp = MLPClassifier(hidden_layer_sizes=(20, 3), max_iter=150, alpha=1e-4,\n",
    "                    solver='sgd', verbose=10, tol=1e-4, random_state=1,\n",
    "                    learning_rate_init=.1)\n",
    "mlp.fit(learnset, learnlabels)\n",
    "print(\"Training set score: %f\" % mlp.score(learnset, learnlabels))\n",
    "print(\"Test set score: %f\" % mlp.score(learnset, learnlabels))\n",
    "mlp.classes_"
   ]
  },
  {
   "cell_type": "code",
   "execution_count": 12,
   "metadata": {},
   "outputs": [
    {
     "data": {
      "text/plain": [
       "array([0, 0, 1, 1, 0, 0, 0, 0, 0, 0, 0, 0, 0, 0, 0, 1, 0, 0, 0, 1, 0, 1,\n",
       "       0, 0, 0, 0, 0, 0, 0, 0, 0, 1, 0, 0, 1, 0, 0, 0, 0, 0, 1, 1, 1, 0,\n",
       "       0, 0, 0, 0, 0, 0, 0, 1, 0, 0, 0, 0, 1, 0, 0, 0, 1, 1, 0, 0, 0, 0,\n",
       "       1, 1, 0, 0, 0, 0, 0, 0, 0, 0, 0, 0, 1, 1, 0, 0, 0, 1, 0, 0, 1, 0,\n",
       "       0, 1, 1, 1, 1, 0, 0, 1, 0, 0, 0, 0, 1, 0, 0, 0, 0, 0, 0, 0, 0, 0,\n",
       "       0, 0, 0, 0, 0, 0, 0, 0, 1, 0, 0, 0, 0, 0, 0, 0, 0, 0, 1, 0, 1, 0,\n",
       "       0, 0, 0, 1, 1, 0, 1, 0, 0, 0, 0, 0, 0, 0, 0, 0, 1, 0])"
      ]
     },
     "execution_count": 12,
     "metadata": {},
     "output_type": "execute_result"
    }
   ],
   "source": [
    "predictions = mlp.predict(testset)\n",
    "predictions"
   ]
  },
  {
   "cell_type": "code",
   "execution_count": 13,
   "metadata": {},
   "outputs": [
    {
     "data": {
      "image/png": "[encoded data removed]",
      "text/plain": [
       "<matplotlib.figure.Figure at 0x99e0c18>"
      ]
     },
     "metadata": {},
     "output_type": "display_data"
    }
   ],
   "source": [
    "testset = np.array(testset)\n",
    "testset[predictions==1]\n",
    "colours = ['#C0FFFF', \"#FFC8C8\"]\n",
    "for i in range(2):\n",
    "    plt.scatter(X[i], Y[i], c=colours[i])\n",
    "colours = [\"b\", \"r\"]\n",
    "for i in range(2):\n",
    "    cls = testset[predictions==i]\n",
    "    Xt, Yt = zip(*cls)\n",
    "    plt.scatter(Xt, Yt, marker=\"D\", c=colours[i])"
   ]
  },
  {
   "cell_type": "code",
   "execution_count": null,
   "metadata": {},
   "outputs": [],
   "source": []
  },
  {
   "cell_type": "code",
   "execution_count": null,
   "metadata": {},
   "outputs": [],
   "source": []
  }
 ],
 "metadata": {
  "kernelspec": {
   "display_name": "Python 3",
   "language": "python",
   "name": "python3"
  },
  "language_info": {
   "codemirror_mode": {
    "name": "ipython",
    "version": 3
   },
   "file_extension": ".py",
   "mimetype": "text/x-python",
   "name": "python",
   "nbconvert_exporter": "python",
   "pygments_lexer": "ipython3",
   "version": "3.6.4"
  }
 },
 "nbformat": 4,
 "nbformat_minor": 2
}
