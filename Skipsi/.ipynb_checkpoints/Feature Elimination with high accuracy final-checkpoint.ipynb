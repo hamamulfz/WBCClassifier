{
 "cells": [
  {
   "cell_type": "code",
   "execution_count": 1,
   "metadata": {},
   "outputs": [],
   "source": [
    "import pandas as pd\n",
    "import numpy as np\n",
    "df = pd.read_excel('Urut-Data-20Fitur-20Citra-20Sel-20Darah.xlsx', header=0)"
   ]
  },
  {
   "cell_type": "code",
   "execution_count": 2,
   "metadata": {},
   "outputs": [],
   "source": [
    "'''\n",
    "index : feature name\n",
    "0 : 'Jenis', \n",
    "1 : 'KIperKP', \n",
    "2 : 'KontrasP', \n",
    "3 : 'Solidity_Inti', \n",
    "4 : 'HomogenitasP',\n",
    "5 : 'Circularity_Inti', \n",
    "6 : 'Keliling_Inti', \n",
    "7 : 'LIperLP ', \n",
    "8 : 'KelilingP',\n",
    "9 : 'EntropiP', \n",
    "10 : 'LuasNormal_P', \n",
    "11 : 'EnergiP', \n",
    "12 : 'Homogenitas_Inti',\n",
    "13 : 'KelilingNormal_I',\n",
    "14 : 'Entropi_Inti',\n",
    "15 : 'Granularity_Inti',\n",
    "16 : 'RerataGP',\n",
    "17 : 'SolidityP',\n",
    "18 : 'Energi_Inti',\n",
    "19 : 'RerataRP',\n",
    "20 : 'RerataR_Inti', \n",
    "21 : 'CircularityP',\n",
    "22 : 'LuasP', \n",
    "23 : 'GranularityP',\n",
    "24 : 'RerataG_Inti',\n",
    "25 : 'RerataBP', \n",
    "26 : 'Eccentricity', \n",
    "27 : 'RerataB_Inti',\n",
    "28 : 'Kontras_Inti',\n",
    "29 : 'Luas_Inti']\n",
    "'''\n",
    "\n",
    "\n",
    "head = ['Jenis', 'KIperKP', 'KontrasP', 'Solidity_Inti', 'HomogenitasP',\n",
    "        'Circularity_Inti', 'Keliling_Inti', 'LIperLP ', 'KelilingP',\n",
    "        'EntropiP', 'LuasNormal_P', 'EnergiP', 'Homogenitas_Inti',\n",
    "        'KelilingNormal_I', 'Entropi_Inti', 'Granularity_Inti',\n",
    "        'RerataGP', 'SolidityP', 'Energi_Inti', 'RerataRP',\n",
    "        'RerataR_Inti', 'CircularityP', 'LuasP', 'GranularityP',\n",
    "        'RerataG_Inti', 'RerataBP', 'Eccentricity', 'RerataB_Inti',\n",
    "        'Kontras_Inti', 'Luas_Inti']"
   ]
  },
  {
   "cell_type": "code",
   "execution_count": 3,
   "metadata": {},
   "outputs": [
    {
     "data": {
      "text/html": [
       "<div>\n",
       "<style scoped>\n",
       "    .dataframe tbody tr th:only-of-type {\n",
       "        vertical-align: middle;\n",
       "    }\n",
       "\n",
       "    .dataframe tbody tr th {\n",
       "        vertical-align: top;\n",
       "    }\n",
       "\n",
       "    .dataframe thead th {\n",
       "        text-align: right;\n",
       "    }\n",
       "</style>\n",
       "<table border=\"1\" class=\"dataframe\">\n",
       "  <thead>\n",
       "    <tr style=\"text-align: right;\">\n",
       "      <th></th>\n",
       "      <th>Jenis</th>\n",
       "      <th>KontrasP</th>\n",
       "      <th>Solidity_Inti</th>\n",
       "      <th>HomogenitasP</th>\n",
       "      <th>Circularity_Inti</th>\n",
       "      <th>Keliling_Inti</th>\n",
       "      <th>LIperLP</th>\n",
       "      <th>KelilingP</th>\n",
       "      <th>EntropiP</th>\n",
       "      <th>LuasNormal_P</th>\n",
       "      <th>...</th>\n",
       "      <th>RerataR_Inti</th>\n",
       "      <th>CircularityP</th>\n",
       "      <th>LuasP</th>\n",
       "      <th>GranularityP</th>\n",
       "      <th>RerataG_Inti</th>\n",
       "      <th>RerataBP</th>\n",
       "      <th>Eccentricity</th>\n",
       "      <th>RerataB_Inti</th>\n",
       "      <th>Kontras_Inti</th>\n",
       "      <th>Luas_Inti</th>\n",
       "    </tr>\n",
       "  </thead>\n",
       "  <tbody>\n",
       "  </tbody>\n",
       "</table>\n",
       "<p>0 rows × 29 columns</p>\n",
       "</div>"
      ],
      "text/plain": [
       "Empty DataFrame\n",
       "Columns: [Jenis, KontrasP, Solidity_Inti, HomogenitasP, Circularity_Inti, Keliling_Inti, LIperLP , KelilingP, EntropiP, LuasNormal_P, EnergiP, Homogenitas_Inti, KelilingNormal_I, Entropi_Inti, Granularity_Inti, RerataGP, SolidityP, Energi_Inti, RerataRP, RerataR_Inti, CircularityP, LuasP, GranularityP, RerataG_Inti, RerataBP, Eccentricity, RerataB_Inti, Kontras_Inti, Luas_Inti]\n",
       "Index: []\n",
       "\n",
       "[0 rows x 29 columns]"
      ]
     },
     "execution_count": 3,
     "metadata": {},
     "output_type": "execute_result"
    }
   ],
   "source": [
    "df[0:0]\n",
    "lc =df.drop( head[1], axis=1)\n",
    "lc[0:0]"
   ]
  },
  {
   "cell_type": "code",
   "execution_count": 4,
   "metadata": {},
   "outputs": [
    {
     "data": {
      "text/html": [
       "<div>\n",
       "<style scoped>\n",
       "    .dataframe tbody tr th:only-of-type {\n",
       "        vertical-align: middle;\n",
       "    }\n",
       "\n",
       "    .dataframe tbody tr th {\n",
       "        vertical-align: top;\n",
       "    }\n",
       "\n",
       "    .dataframe thead th {\n",
       "        text-align: right;\n",
       "    }\n",
       "</style>\n",
       "<table border=\"1\" class=\"dataframe\">\n",
       "  <thead>\n",
       "    <tr style=\"text-align: right;\">\n",
       "      <th></th>\n",
       "      <th>Jenis</th>\n",
       "      <th>KontrasP</th>\n",
       "      <th>Solidity_Inti</th>\n",
       "      <th>HomogenitasP</th>\n",
       "      <th>Circularity_Inti</th>\n",
       "      <th>Keliling_Inti</th>\n",
       "      <th>LIperLP</th>\n",
       "      <th>KelilingP</th>\n",
       "      <th>EntropiP</th>\n",
       "      <th>LuasNormal_P</th>\n",
       "      <th>...</th>\n",
       "      <th>RerataR_Inti</th>\n",
       "      <th>CircularityP</th>\n",
       "      <th>LuasP</th>\n",
       "      <th>GranularityP</th>\n",
       "      <th>RerataG_Inti</th>\n",
       "      <th>RerataBP</th>\n",
       "      <th>Eccentricity</th>\n",
       "      <th>RerataB_Inti</th>\n",
       "      <th>Kontras_Inti</th>\n",
       "      <th>Luas_Inti</th>\n",
       "    </tr>\n",
       "  </thead>\n",
       "  <tbody>\n",
       "  </tbody>\n",
       "</table>\n",
       "<p>0 rows × 29 columns</p>\n",
       "</div>"
      ],
      "text/plain": [
       "Empty DataFrame\n",
       "Columns: [Jenis, KontrasP, Solidity_Inti, HomogenitasP, Circularity_Inti, Keliling_Inti, LIperLP , KelilingP, EntropiP, LuasNormal_P, EnergiP, Homogenitas_Inti, KelilingNormal_I, Entropi_Inti, Granularity_Inti, RerataGP, SolidityP, Energi_Inti, RerataRP, RerataR_Inti, CircularityP, LuasP, GranularityP, RerataG_Inti, RerataBP, Eccentricity, RerataB_Inti, Kontras_Inti, Luas_Inti]\n",
       "Index: []\n",
       "\n",
       "[0 rows x 29 columns]"
      ]
     },
     "execution_count": 4,
     "metadata": {},
     "output_type": "execute_result"
    }
   ],
   "source": [
    "lc =df.drop( head[1], axis=1)\n",
    "lc[0:0]"
   ]
  },
  {
   "cell_type": "code",
   "execution_count": 2,
   "metadata": {},
   "outputs": [
    {
     "name": "stdout",
     "output_type": "stream",
     "text": [
      "fitur ke:  1\n"
     ]
    },
    {
     "ename": "NameError",
     "evalue": "name 'pd' is not defined",
     "output_type": "error",
     "traceback": [
      "\u001b[1;31m---------------------------------------------------------------------------\u001b[0m",
      "\u001b[1;31mNameError\u001b[0m                                 Traceback (most recent call last)",
      "\u001b[1;32m<ipython-input-2-ff8477afb28e>\u001b[0m in \u001b[0;36m<module>\u001b[1;34m()\u001b[0m\n\u001b[0;32m      6\u001b[0m     \u001b[1;32mwhile\u001b[0m\u001b[1;33m(\u001b[0m\u001b[0mk\u001b[0m\u001b[1;33m<\u001b[0m\u001b[1;36m30\u001b[0m\u001b[1;33m)\u001b[0m\u001b[1;33m:\u001b[0m\u001b[1;33m\u001b[0m\u001b[0m\n\u001b[0;32m      7\u001b[0m         \u001b[0mprint\u001b[0m\u001b[1;33m(\u001b[0m\u001b[1;34m\"fitur ke: \"\u001b[0m\u001b[1;33m,\u001b[0m\u001b[0mk\u001b[0m\u001b[1;33m)\u001b[0m\u001b[1;33m\u001b[0m\u001b[0m\n\u001b[1;32m----> 8\u001b[1;33m         \u001b[0mdaf\u001b[0m \u001b[1;33m=\u001b[0m \u001b[0mpd\u001b[0m\u001b[1;33m.\u001b[0m\u001b[0mread_excel\u001b[0m\u001b[1;33m(\u001b[0m\u001b[1;34m'Urut-Data-20Fitur-20Citra-20Sel-20Darah.xlsx'\u001b[0m\u001b[1;33m,\u001b[0m \u001b[0mheader\u001b[0m\u001b[1;33m=\u001b[0m\u001b[1;36m0\u001b[0m\u001b[1;33m)\u001b[0m\u001b[1;33m\u001b[0m\u001b[0m\n\u001b[0m\u001b[0;32m      9\u001b[0m         \u001b[0mdf\u001b[0m \u001b[1;33m=\u001b[0m \u001b[0mdaf\u001b[0m\u001b[1;33m.\u001b[0m\u001b[0mdrop\u001b[0m\u001b[1;33m(\u001b[0m\u001b[0mhead\u001b[0m\u001b[1;33m[\u001b[0m\u001b[0mk\u001b[0m\u001b[1;33m]\u001b[0m\u001b[1;33m,\u001b[0m \u001b[0maxis\u001b[0m\u001b[1;33m=\u001b[0m\u001b[1;36m1\u001b[0m\u001b[1;33m)\u001b[0m\u001b[1;33m\u001b[0m\u001b[0m\n\u001b[0;32m     10\u001b[0m         \u001b[0mprint\u001b[0m\u001b[1;33m(\u001b[0m\u001b[0mdf\u001b[0m\u001b[1;33m[\u001b[0m\u001b[1;36m0\u001b[0m\u001b[1;33m:\u001b[0m\u001b[1;36m0\u001b[0m\u001b[1;33m]\u001b[0m\u001b[1;33m)\u001b[0m\u001b[1;33m\u001b[0m\u001b[0m\n",
      "\u001b[1;31mNameError\u001b[0m: name 'pd' is not defined"
     ]
    }
   ],
   "source": [
    "data = [ ]\n",
    "i=10\n",
    "k=1\n",
    "#for k in [11,16,21,26,30]:\n",
    "while (i<22):\n",
    "    while(k<30):\n",
    "        print(\"fitur ke: \",k)\n",
    "        daf = pd.read_excel('Urut-Data-20Fitur-20Citra-20Sel-20Darah.xlsx', header=0)\n",
    "        df = daf.drop(head[k], axis=1)\n",
    "        print(df[0:0])\n",
    "        #membuat dataset target y\n",
    "        import numpy as np\n",
    "        y= np.array(df)[:,0]\n",
    "\n",
    "        #membuat dataset input X\n",
    "        X = np.array(df)[:,1:29]\n",
    "\n",
    "        #keterangan jumlah fitur\n",
    "        #data.append([k])\n",
    "\n",
    "        # Pisahkan dataset menjadi data latih dan uji dengan perbandingan 80:20\n",
    "        from sklearn.cross_validation import train_test_split\n",
    "        X_train, X_test, y_train, y_test = train_test_split( X, y, test_size=0.30, random_state=0)\n",
    "\n",
    "        # Penyekalaan fitur dilakukan pada data latih dan uji.\n",
    "        # Detail kenapa ini penting dijelaskan di sini: http://scikit-learn.org/stable/auto_examples/preprocessing/plot_scaling_importance.html\n",
    "        from sklearn.preprocessing import StandardScaler\n",
    "        sc = StandardScaler()\n",
    "\n",
    "        # Fungsi fit_transform hanya dilakukan di data latih\n",
    "        X_train = sc.fit_transform(X_train)\n",
    "        X_test = sc.transform(X_test)\n",
    "\n",
    "        # Latih kecerdasan buatan dengan data latih, menggunakan MLP-NN\n",
    "        from sklearn.neural_network import MLPClassifier\n",
    "        from sklearn.metrics import mean_squared_error, r2_score\n",
    "        import time\n",
    "\n",
    "\n",
    "        clf = MLPClassifier(activation='relu',solver='lbfgs', alpha=1e-5, max_iter=2000,\n",
    "                    hidden_layer_sizes=(i), random_state=1)\n",
    "        start = time.time()    \n",
    "        print(clf.fit(X_train, y_train))\n",
    "        end = time.time()\n",
    "        waktuTrain = end - start\n",
    "\n",
    "\n",
    "        #prediksi\n",
    "        start = time.time()\n",
    "        result = clf.predict(X_test)\n",
    "        end = time.time()\n",
    "        waktuTest = end - start\n",
    "\n",
    "        #Confusion Matriks Hasil Prediksi dengan Nilai Sebenarnya\n",
    "        from sklearn.metrics import classification_report,confusion_matrix, roc_auc_score\n",
    "        print(confusion_matrix(y_test,result))\n",
    "\n",
    "        # Cek kemampuan kecerdasan buatan dengan data uji \n",
    "        test_accuracy = clf.score(X_test, y_test)\n",
    "        print(\"akurasi uji: \",test_accuracy)\n",
    "\n",
    "        # Cek kemampuan kecerdasan buatan dengan data uji \n",
    "        train_accuracy = clf.score(X_train, y_train)\n",
    "\n",
    "        data.append( [k, i,'{0:.2f}'.format(test_accuracy)]) \n",
    "        \n",
    "        print()  \n",
    "\n",
    "        k=k+1\n",
    "    i=i+5"
   ]
  },
  {
   "cell_type": "code",
   "execution_count": 3,
   "metadata": {},
   "outputs": [
    {
     "data": {
      "text/plain": [
       "[]"
      ]
     },
     "execution_count": 3,
     "metadata": {},
     "output_type": "execute_result"
    }
   ],
   "source": [
    "i=10"
   ]
  },
  {
   "cell_type": "code",
   "execution_count": null,
   "metadata": {},
   "outputs": [],
   "source": []
  },
  {
   "cell_type": "code",
   "execution_count": 14,
   "metadata": {},
   "outputs": [],
   "source": [
    "#save data ke csv\n",
    "#np.savetxt(\"Feature Elimination.csv\", data)"
   ]
  },
  {
   "cell_type": "code",
   "execution_count": 32,
   "metadata": {},
   "outputs": [
    {
     "name": "stdout",
     "output_type": "stream",
     "text": [
      "fitur ke:  1\n",
      "MLPClassifier(activation='relu', alpha=1e-05, batch_size='auto', beta_1=0.9,\n",
      "       beta_2=0.999, early_stopping=False, epsilon=1e-08,\n",
      "       hidden_layer_sizes=21, learning_rate='constant',\n",
      "       learning_rate_init=0.001, max_iter=2000, momentum=0.9,\n",
      "       nesterovs_momentum=True, power_t=0.5, random_state=1, shuffle=True,\n",
      "       solver='lbfgs', tol=0.0001, validation_fraction=0.1, verbose=False,\n",
      "       warm_start=False)\n",
      "[[ 9  2  0  0  0]\n",
      " [ 1  0  1  0  0]\n",
      " [ 0  0 10  0  2]\n",
      " [ 0  1  1  3  0]\n",
      " [ 0  0  1  0 20]]\n",
      "akurasi uji:  0.8235294117647058\n",
      "\n",
      "MLPClassifier(activation='relu', alpha=1e-05, batch_size='auto', beta_1=0.9,\n",
      "       beta_2=0.999, early_stopping=False, epsilon=1e-08,\n",
      "       hidden_layer_sizes=22, learning_rate='constant',\n",
      "       learning_rate_init=0.001, max_iter=2000, momentum=0.9,\n",
      "       nesterovs_momentum=True, power_t=0.5, random_state=1, shuffle=True,\n",
      "       solver='lbfgs', tol=0.0001, validation_fraction=0.1, verbose=False,\n",
      "       warm_start=False)\n",
      "[[ 9  1  0  0  1]\n",
      " [ 1  0  1  0  0]\n",
      " [ 0  0  9  1  2]\n",
      " [ 0  0  1  4  0]\n",
      " [ 0  0  1  0 20]]\n",
      "akurasi uji:  0.8235294117647058\n",
      "\n"
     ]
    }
   ],
   "source": [
    "data = [ ]\n",
    "k=1\n",
    "#for k in [11,16,21,26,30]:\n",
    "while(k<2):\n",
    "    print(\"fitur ke: \",k)\n",
    "    df = pd.read_excel('Urut-Data-20Fitur-20Citra-20Sel-20Darah.xlsx', header=0)\n",
    "\n",
    "    #membuat dataset target y\n",
    "    import numpy as np\n",
    "    y= np.array(df)[:,0]\n",
    "\n",
    "    #membuat dataset input X\n",
    "    X = np.array(df)[:,1:29]\n",
    "\n",
    "    #keterangan jumlah fitur\n",
    "    data.append([29,k])\n",
    "    \n",
    "    # Pisahkan dataset menjadi data latih dan uji dengan perbandingan 80:20\n",
    "    from sklearn.cross_validation import train_test_split\n",
    "    X_train, X_test, y_train, y_test = train_test_split( X, y, test_size=0.30, random_state=0)\n",
    "\n",
    "    # Penyekalaan fitur dilakukan pada data latih dan uji.\n",
    "    # Detail kenapa ini penting dijelaskan di sini: http://scikit-learn.org/stable/auto_examples/preprocessing/plot_scaling_importance.html\n",
    "    from sklearn.preprocessing import StandardScaler\n",
    "    sc = StandardScaler()\n",
    "\n",
    "    # Fungsi fit_transform hanya dilakukan di data latih\n",
    "    X_train = sc.fit_transform(X_train)\n",
    "    X_test = sc.transform(X_test)\n",
    "\n",
    "    # Latih kecerdasan buatan dengan data latih, menggunakan MLP-NN\n",
    "    from sklearn.neural_network import MLPClassifier\n",
    "    from sklearn.metrics import mean_squared_error, r2_score\n",
    "    import time\n",
    "\n",
    "    i=21\n",
    "   \n",
    "    while (i<23):\n",
    "      clf = MLPClassifier(activation='relu',solver='lbfgs', alpha=1e-5, max_iter=2000,\n",
    "                        hidden_layer_sizes=(i), random_state=1)\n",
    "      start = time.time()    \n",
    "      print(clf.fit(X_train, y_train))\n",
    "      end = time.time()\n",
    "      waktuTrain = end - start\n",
    "\n",
    "     \n",
    "       #prediksi\n",
    "      start = time.time()\n",
    "      result = clf.predict(X_test)\n",
    "      end = time.time()\n",
    "      waktuTest = end - start\n",
    "\n",
    "      #Confusion Matriks Hasil Prediksi dengan Nilai Sebenarnya\n",
    "      from sklearn.metrics import classification_report,confusion_matrix, roc_auc_score\n",
    "      print(confusion_matrix(y_test,result))\n",
    "\n",
    "      # Cek kemampuan kecerdasan buatan dengan data uji \n",
    "      test_accuracy = clf.score(X_test, y_test)\n",
    "      print(\"akurasi uji: \",test_accuracy)\n",
    "\n",
    "      # Cek kemampuan kecerdasan buatan dengan data uji \n",
    "      train_accuracy = clf.score(X_train, y_train)\n",
    "\n",
    "      data.append( [i,'{0:.2f}'.format(test_accuracy), '{0:.2f}'.format(clf.loss_), '{0:.2f}'.format(clf.n_iter_), '{0:.2f}'.format(waktuTrain), '{0:.2f}'.format(waktuTest)]) \n",
    "      print()  \n",
    "      i=i+1\n",
    "      k=k+1"
   ]
  },
  {
   "cell_type": "code",
   "execution_count": 33,
   "metadata": {},
   "outputs": [
    {
     "data": {
      "text/plain": [
       "[[29, 1],\n",
       " [21, '0.82', '0.00', '18.00', '0.09', '0.00'],\n",
       " [22, '0.82', '0.00', '19.00', '0.05', '0.00']]"
      ]
     },
     "execution_count": 33,
     "metadata": {},
     "output_type": "execute_result"
    }
   ],
   "source": [
    "data"
   ]
  },
  {
   "cell_type": "code",
   "execution_count": 17,
   "metadata": {},
   "outputs": [
    {
     "name": "stdout",
     "output_type": "stream",
     "text": [
      "MLPClassifier(activation='relu', alpha=1e-05, batch_size='auto', beta_1=0.9,\n",
      "       beta_2=0.999, early_stopping=False, epsilon=1e-08,\n",
      "       hidden_layer_sizes=15, learning_rate='constant',\n",
      "       learning_rate_init=0.001, max_iter=2000, momentum=0.9,\n",
      "       nesterovs_momentum=True, power_t=0.5, random_state=1, shuffle=True,\n",
      "       solver='lbfgs', tol=0.0001, validation_fraction=0.1, verbose=False,\n",
      "       warm_start=False)\n",
      "[[10  0  0  0  1]\n",
      " [ 1  0  1  0  0]\n",
      " [ 0  0 12  0  0]\n",
      " [ 1  0  1  3  0]\n",
      " [ 1  0  1  0 19]]\n",
      "akurasi uji:  0.8627450980392157\n",
      "\n",
      "MLPClassifier(activation='relu', alpha=1e-05, batch_size='auto', beta_1=0.9,\n",
      "       beta_2=0.999, early_stopping=False, epsilon=1e-08,\n",
      "       hidden_layer_sizes=20, learning_rate='constant',\n",
      "       learning_rate_init=0.001, max_iter=2000, momentum=0.9,\n",
      "       nesterovs_momentum=True, power_t=0.5, random_state=1, shuffle=True,\n",
      "       solver='lbfgs', tol=0.0001, validation_fraction=0.1, verbose=False,\n",
      "       warm_start=False)\n",
      "[[10  1  0  0  0]\n",
      " [ 1  0  1  0  0]\n",
      " [ 0  0 10  0  2]\n",
      " [ 1  1  0  3  0]\n",
      " [ 1  0  1  0 19]]\n",
      "akurasi uji:  0.8235294117647058\n",
      "\n",
      "MLPClassifier(activation='relu', alpha=1e-05, batch_size='auto', beta_1=0.9,\n",
      "       beta_2=0.999, early_stopping=False, epsilon=1e-08,\n",
      "       hidden_layer_sizes=25, learning_rate='constant',\n",
      "       learning_rate_init=0.001, max_iter=2000, momentum=0.9,\n",
      "       nesterovs_momentum=True, power_t=0.5, random_state=1, shuffle=True,\n",
      "       solver='lbfgs', tol=0.0001, validation_fraction=0.1, verbose=False,\n",
      "       warm_start=False)\n",
      "[[10  0  0  0  1]\n",
      " [ 1  0  1  0  0]\n",
      " [ 0  0 11  0  1]\n",
      " [ 1  0  1  3  0]\n",
      " [ 0  0  1  0 20]]\n",
      "akurasi uji:  0.8627450980392157\n",
      "\n"
     ]
    }
   ],
   "source": [
    "data = [ ]\n",
    "i=10\n",
    "k=1\n",
    "#for k in [11,16,21,26,30]:\n",
    "while (i<22):\n",
    "    i=i+5\n",
    "\n",
    "    df = pd.read_excel('Urut-Data-20Fitur-20Citra-20Sel-20Darah.xlsx', header=0)\n",
    "\n",
    "    import numpy as np\n",
    "    y= np.array(df)[:,0]\n",
    "    #membuat dataset input X\n",
    "    X = np.array(df)[:,1:30]\n",
    "\n",
    "    # Pisahkan dataset menjadi data latih dan uji dengan perbandingan 80:20\n",
    "    from sklearn.cross_validation import train_test_split\n",
    "    X_train, X_test, y_train, y_test = train_test_split( X, y, test_size=0.30, random_state=0)\n",
    "\n",
    "    # Penyekalaan fitur dilakukan pada data latih dan uji.\n",
    "    # Detail kenapa ini penting dijelaskan di sini: http://scikit-learn.org/stable/auto_examples/preprocessing/plot_scaling_importance.html\n",
    "    from sklearn.preprocessing import StandardScaler\n",
    "    sc = StandardScaler()\n",
    "\n",
    "    # Fungsi fit_transform hanya dilakukan di data latih\n",
    "    X_train = sc.fit_transform(X_train)\n",
    "    X_test = sc.transform(X_test)\n",
    "\n",
    "    # Latih kecerdasan buatan dengan data latih, menggunakan MLP-NN\n",
    "    from sklearn.neural_network import MLPClassifier\n",
    "    from sklearn.metrics import mean_squared_error, r2_score\n",
    "    import time\n",
    "\n",
    "\n",
    "    clf = MLPClassifier(activation='relu',solver='lbfgs', alpha=1e-5, max_iter=2000,\n",
    "                hidden_layer_sizes=(i), random_state=1)\n",
    "    start = time.time()    \n",
    "    print(clf.fit(X_train, y_train))\n",
    "    end = time.time()\n",
    "    waktuTrain = end - start\n",
    "\n",
    "\n",
    "    #prediksi\n",
    "    start = time.time()\n",
    "    result = clf.predict(X_test)\n",
    "    end = time.time()\n",
    "    waktuTest = end - start\n",
    "\n",
    "    #Confusion Matriks Hasil Prediksi dengan Nilai Sebenarnya\n",
    "    from sklearn.metrics import classification_report,confusion_matrix, roc_auc_score\n",
    "    print(confusion_matrix(y_test,result))\n",
    "\n",
    "    # Cek kemampuan kecerdasan buatan dengan data uji \n",
    "    test_accuracy = clf.score(X_test, y_test)\n",
    "    print(\"akurasi uji: \",test_accuracy)\n",
    "\n",
    "    # Cek kemampuan kecerdasan buatan dengan data uji \n",
    "    train_accuracy = clf.score(X_train, y_train)\n",
    "\n",
    "    data.append( [k, i,'{0:.2f}'.format(test_accuracy)]) \n",
    "    print()  \n",
    "\n",
    "    k=k+1\n"
   ]
  },
  {
   "cell_type": "code",
   "execution_count": 34,
   "metadata": {},
   "outputs": [
    {
     "data": {
      "text/plain": [
       "[[29, 1],\n",
       " [21, '0.82', '0.00', '18.00', '0.09', '0.00'],\n",
       " [22, '0.82', '0.00', '19.00', '0.05', '0.00']]"
      ]
     },
     "execution_count": 34,
     "metadata": {},
     "output_type": "execute_result"
    }
   ],
   "source": [
    "data"
   ]
  },
  {
   "cell_type": "code",
   "execution_count": 25,
   "metadata": {},
   "outputs": [
    {
     "data": {
      "text/plain": [
       "array([], shape=(0, 29), dtype=float64)"
      ]
     },
     "execution_count": 25,
     "metadata": {},
     "output_type": "execute_result"
    }
   ],
   "source": [
    "X_train[:0]"
   ]
  },
  {
   "cell_type": "code",
   "execution_count": null,
   "metadata": {},
   "outputs": [],
   "source": []
  }
 ],
 "metadata": {
  "kernelspec": {
   "display_name": "Python 3",
   "language": "python",
   "name": "python3"
  },
  "language_info": {
   "codemirror_mode": {
    "name": "ipython",
    "version": 3
   },
   "file_extension": ".py",
   "mimetype": "text/x-python",
   "name": "python",
   "nbconvert_exporter": "python",
   "pygments_lexer": "ipython3",
   "version": "3.6.4"
  }
 },
 "nbformat": 4,
 "nbformat_minor": 2
}
