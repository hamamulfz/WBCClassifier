{
 "cells": [
  {
   "cell_type": "code",
   "execution_count": 1,
   "metadata": {
    "colab": {
     "autoexec": {
      "startup": false,
      "wait_interval": 0
     }
    },
    "colab_type": "code",
    "id": "4nLs6dhr8s3g"
   },
   "outputs": [],
   "source": [
    "import pandas as pd\n",
    "import numpy as np\n",
    "dataset = pd.read_excel('Urut-Data-20Fitur-20Citra-20Sel-20Darah.xlsx', header=0)\n",
    "#dataset = pd.read_excel('Data-20Fitur-20Citra-20Sel-20Darah.xlsx', header=0,sheetname='Data Fitur Citra Sel Darah2')"
   ]
  },
  {
   "cell_type": "code",
   "execution_count": 2,
   "metadata": {
    "colab": {
     "autoexec": {
      "startup": false,
      "wait_interval": 0
     }
    },
    "colab_type": "code",
    "id": "Mar1rA8D9agP"
   },
   "outputs": [],
   "source": [
    "#membuat dataset target y\n",
    "import numpy as np\n",
    "y= np.array(dataset)[:,0]\n",
    "\n",
    "#membuat dataset input X\n",
    "X = np.array(dataset)[:,1:30]"
   ]
  },
  {
   "cell_type": "code",
   "execution_count": 3,
   "metadata": {},
   "outputs": [
    {
     "name": "stderr",
     "output_type": "stream",
     "text": [
      "D:\\ProgramFiles\\Anaconda3\\lib\\site-packages\\sklearn\\cross_validation.py:41: DeprecationWarning: This module was deprecated in version 0.18 in favor of the model_selection module into which all the refactored classes and functions are moved. Also note that the interface of the new CV iterators are different from that of this module. This module will be removed in 0.20.\n",
      "  \"This module will be removed in 0.20.\", DeprecationWarning)\n"
     ]
    }
   ],
   "source": [
    "# Pisahkan dataset menjadi data latih dan uji dengan perbandingan 80:20\n",
    "from sklearn.cross_validation import train_test_split\n",
    "X_train, X_test, y_train, y_test = train_test_split( X, y, test_size=0.30, random_state=0)"
   ]
  },
  {
   "cell_type": "code",
   "execution_count": 4,
   "metadata": {
    "colab": {
     "autoexec": {
      "startup": false,
      "wait_interval": 0
     }
    },
    "colab_type": "code",
    "id": "q_q6WxyfHujj"
   },
   "outputs": [],
   "source": [
    "# Penyekalaan fitur dilakukan pada data latih dan uji.\n",
    "# Detail kenapa ini penting dijelaskan di sini: http://scikit-learn.org/stable/auto_examples/preprocessing/plot_scaling_importance.html\n",
    "from sklearn.preprocessing import StandardScaler\n",
    "sc = StandardScaler()\n",
    "\n",
    "# Fungsi fit_transform hanya dilakukan di data latih\n",
    "X_train = sc.fit_transform(X_train)\n",
    "X_test = sc.transform(X_test)"
   ]
  },
  {
   "cell_type": "code",
   "execution_count": null,
   "metadata": {
    "colab": {
     "autoexec": {
      "startup": false,
      "wait_interval": 0
     },
     "base_uri": "https://localhost:8080/",
     "height": 6137
    },
    "colab_type": "code",
    "executionInfo": {
     "elapsed": 1355,
     "status": "ok",
     "timestamp": 1526948162133,
     "user": {
      "displayName": "Hamamul Fauzi",
      "photoUrl": "//lh6.googleusercontent.com/-QEW1kiRsz4A/AAAAAAAAAAI/AAAAAAAABEs/eKYmF5qDH1s/s50-c-k-no/photo.jpg",
      "userId": "116230313463027811477"
     },
     "user_tz": -420
    },
    "id": "zzU2Kw9o6xfr",
    "outputId": "c329a456-935e-42c6-8035-953e73ddff33",
    "scrolled": true
   },
   "outputs": [],
   "source": [
    "# Latih kecerdasan buatan dengan data latih, menggunakan MLP-NN\n",
    "from sklearn.neural_network import MLPClassifier\n",
    "\n",
    "i=10\n",
    "data = [ ]\n",
    "loss = [ ]\n",
    "iterasi = [ ]\n",
    "cv_score = [ ]\n",
    "std_cv = [ ]\n",
    "train_data = [ ]\n",
    "while (i<75):\n",
    "    clf = MLPClassifier(activation='relu',solver='lbfgs', alpha=1e-5, max_iter=5000,\n",
    "                    hidden_layer_sizes=(i), random_state=1)\n",
    "    print(clf.fit(X_train, y_train))\n",
    "    if(i>=30):\n",
    "        i=i+5\n",
    "    elif(i<30):  \n",
    "        i=i+1\n",
    "\n",
    "    print('Loss Pelatihan : ', clf.loss_)    \n",
    "    print('Jumlah iterasi : ', clf.n_iter_)\n",
    "    \n",
    "    from sklearn.model_selection import cross_val_score\n",
    "    scoring='accuracy'\n",
    "    accuracies = cross_val_score(estimator=clf, X=X_train, y=y_train, cv=5,scoring=scoring)\n",
    "    avg_accuracy = accuracies.mean()\n",
    "    std_accuracy = accuracies.std()\n",
    "    print('Akurasi: ', avg_accuracy)\n",
    "    print('SD: ', std_accuracy)\n",
    "    \n",
    "    #Prediksi Data Uji\n",
    "    result = clf.predict(X_test)\n",
    "\n",
    "    #Confusion Matriks Hasil Prediksi dengan Nilai Sebenarnya\n",
    "    from sklearn.metrics import classification_report,confusion_matrix\n",
    "    print(confusion_matrix(y_test,result))\n",
    "\n",
    "    # Cek kemampuan kecerdasan buatan dengan data uji \n",
    "    test_accuracy = clf.score(X_test, y_test)\n",
    "    from sklearn.metrics import accuracy_score\n",
    "    akurasi = accuracy_score(y_test, result)\n",
    "    print('Akurasi Data Uji:', test_accuracy , '=', akurasi)\n",
    "\n",
    "    # Cek kemampuan kecerdasan buatan dengan data uji \n",
    "    train_accuracy = float('{0:.4f}'.format(clf.score(X_train, y_train)))*100\n",
    "    print('Akurasi Data Latih:', train_accuracy)  \n",
    "\n",
    "\n",
    "    data.append( float('{0:.4f}'.format(test_accuracy))*100)\n",
    "    train_data.append(train_accuracy)\n",
    "    loss.append(clf.loss_)\n",
    "    iterasi.append(clf.n_iter_)\n",
    "    cv_score.append(avg_accuracy)\n",
    "    std_cv.append(std_accuracy)\n",
    "    print()"
   ]
  },
  {
   "cell_type": "code",
   "execution_count": null,
   "metadata": {},
   "outputs": [],
   "source": [
    "#satu = acc[0:len(layers)]\n",
    "max_value = max(data)\n",
    "min_value = min(data)\n",
    "avg_value = sum(data)/len(data)\n",
    "print('Max Acc:', max_value)\n",
    "print('Average :',  float('{0:.2f}'.format(avg_value)))"
   ]
  },
  {
   "cell_type": "code",
   "execution_count": null,
   "metadata": {
    "scrolled": true
   },
   "outputs": [],
   "source": [
    "#satu = acc[0:len(layers)]\n",
    "max_value = max(train_data)\n",
    "min_value = min(train_data)\n",
    "avg_value = sum(train_data)/len(train_data)\n",
    "print('Max Acc:', max_value)\n",
    "print('Average :',  float('{0:.2f}'.format(avg_value)))"
   ]
  },
  {
   "cell_type": "code",
   "execution_count": 31,
   "metadata": {},
   "outputs": [
    {
     "name": "stdout",
     "output_type": "stream",
     "text": [
      "Max CV: 0.9513043478260869\n",
      "Min CV: 0.9095177865612648\n",
      "Average : 0.9306\n"
     ]
    }
   ],
   "source": [
    "#satu = acc[0:len(layers)]\n",
    "max_value = max(cv_score)\n",
    "min_value = min(cv_score)\n",
    "avg_value = sum(cv_score)/len(cv_score)\n",
    "print('Max CV:', max_value)\n",
    "print('Min CV:', min_value)\n",
    "print('Average :',  float('{0:.4f}'.format(avg_value)))"
   ]
  },
  {
   "cell_type": "code",
   "execution_count": 32,
   "metadata": {},
   "outputs": [
    {
     "name": "stdout",
     "output_type": "stream",
     "text": [
      "Max loss: 0.051587106669125145\n",
      "Min loss: 0.02134414698431544\n",
      "Average : 0.03449847818565822\n"
     ]
    }
   ],
   "source": [
    "#satu = acc[0:len(layers)]\n",
    "max_value = max(loss)\n",
    "min_value = min(loss)\n",
    "avg_value = sum(loss)/len(loss)\n",
    "print('Max loss:', max_value)\n",
    "print('Min loss:', min_value)\n",
    "print('Average :',  avg_value)"
   ]
  },
  {
   "cell_type": "code",
   "execution_count": 33,
   "metadata": {},
   "outputs": [
    {
     "name": "stdout",
     "output_type": "stream",
     "text": [
      "Max Acc: 0.08325622645698239\n",
      "Average : 0.06\n"
     ]
    }
   ],
   "source": [
    "#satu = acc[0:len(layers)]\n",
    "max_value = max(std_cv)\n",
    "min_value = min(std_cv)\n",
    "avg_value = sum(std_cv)/len(std_cv)\n",
    "print('Max Acc:', max_value)\n",
    "print('Average :',  float('{0:.2f}'.format(avg_value)))"
   ]
  },
  {
   "cell_type": "code",
   "execution_count": 34,
   "metadata": {},
   "outputs": [
    {
     "data": {
      "text/plain": [
       "29"
      ]
     },
     "execution_count": 34,
     "metadata": {},
     "output_type": "execute_result"
    }
   ],
   "source": [
    "i=10\n",
    "layers = [ ]\n",
    "while (i<75):\n",
    "    layers.append(i)\n",
    "    if(i>=30):\n",
    "        i=i+5\n",
    "    elif(i<30):  \n",
    "        i=i+1\n",
    "        \n",
    "\n",
    "len(layers)"
   ]
  },
  {
   "cell_type": "code",
   "execution_count": 35,
   "metadata": {},
   "outputs": [
    {
     "data": {
      "text/html": [
       "<div>\n",
       "<style scoped>\n",
       "    .dataframe tbody tr th:only-of-type {\n",
       "        vertical-align: middle;\n",
       "    }\n",
       "\n",
       "    .dataframe tbody tr th {\n",
       "        vertical-align: top;\n",
       "    }\n",
       "\n",
       "    .dataframe thead th {\n",
       "        text-align: right;\n",
       "    }\n",
       "</style>\n",
       "<table border=\"1\" class=\"dataframe\">\n",
       "  <thead>\n",
       "    <tr style=\"text-align: right;\">\n",
       "      <th></th>\n",
       "      <th>neuron</th>\n",
       "      <th>train</th>\n",
       "      <th>cv</th>\n",
       "      <th>std</th>\n",
       "      <th>akurasi</th>\n",
       "      <th>loss</th>\n",
       "      <th>iter</th>\n",
       "    </tr>\n",
       "  </thead>\n",
       "  <tbody>\n",
       "    <tr>\n",
       "      <th>0</th>\n",
       "      <td>10.0</td>\n",
       "      <td>100.0</td>\n",
       "      <td>0.918609</td>\n",
       "      <td>0.083256</td>\n",
       "      <td>90.20</td>\n",
       "      <td>0.051587</td>\n",
       "      <td>1054.0</td>\n",
       "    </tr>\n",
       "    <tr>\n",
       "      <th>1</th>\n",
       "      <td>11.0</td>\n",
       "      <td>100.0</td>\n",
       "      <td>0.934609</td>\n",
       "      <td>0.053667</td>\n",
       "      <td>88.24</td>\n",
       "      <td>0.048242</td>\n",
       "      <td>860.0</td>\n",
       "    </tr>\n",
       "    <tr>\n",
       "      <th>2</th>\n",
       "      <td>12.0</td>\n",
       "      <td>100.0</td>\n",
       "      <td>0.909518</td>\n",
       "      <td>0.067959</td>\n",
       "      <td>86.27</td>\n",
       "      <td>0.040979</td>\n",
       "      <td>792.0</td>\n",
       "    </tr>\n",
       "    <tr>\n",
       "      <th>3</th>\n",
       "      <td>13.0</td>\n",
       "      <td>100.0</td>\n",
       "      <td>0.909518</td>\n",
       "      <td>0.062148</td>\n",
       "      <td>84.31</td>\n",
       "      <td>0.049895</td>\n",
       "      <td>944.0</td>\n",
       "    </tr>\n",
       "    <tr>\n",
       "      <th>4</th>\n",
       "      <td>14.0</td>\n",
       "      <td>100.0</td>\n",
       "      <td>0.926609</td>\n",
       "      <td>0.068190</td>\n",
       "      <td>86.27</td>\n",
       "      <td>0.042308</td>\n",
       "      <td>752.0</td>\n",
       "    </tr>\n",
       "    <tr>\n",
       "      <th>5</th>\n",
       "      <td>15.0</td>\n",
       "      <td>100.0</td>\n",
       "      <td>0.926213</td>\n",
       "      <td>0.068021</td>\n",
       "      <td>88.24</td>\n",
       "      <td>0.041328</td>\n",
       "      <td>771.0</td>\n",
       "    </tr>\n",
       "    <tr>\n",
       "      <th>6</th>\n",
       "      <td>16.0</td>\n",
       "      <td>100.0</td>\n",
       "      <td>0.926213</td>\n",
       "      <td>0.068021</td>\n",
       "      <td>92.16</td>\n",
       "      <td>0.043531</td>\n",
       "      <td>809.0</td>\n",
       "    </tr>\n",
       "    <tr>\n",
       "      <th>7</th>\n",
       "      <td>17.0</td>\n",
       "      <td>100.0</td>\n",
       "      <td>0.926213</td>\n",
       "      <td>0.068021</td>\n",
       "      <td>86.27</td>\n",
       "      <td>0.038435</td>\n",
       "      <td>778.0</td>\n",
       "    </tr>\n",
       "    <tr>\n",
       "      <th>8</th>\n",
       "      <td>18.0</td>\n",
       "      <td>100.0</td>\n",
       "      <td>0.935304</td>\n",
       "      <td>0.073977</td>\n",
       "      <td>86.27</td>\n",
       "      <td>0.039806</td>\n",
       "      <td>738.0</td>\n",
       "    </tr>\n",
       "    <tr>\n",
       "      <th>9</th>\n",
       "      <td>19.0</td>\n",
       "      <td>100.0</td>\n",
       "      <td>0.934213</td>\n",
       "      <td>0.053511</td>\n",
       "      <td>88.24</td>\n",
       "      <td>0.038173</td>\n",
       "      <td>721.0</td>\n",
       "    </tr>\n",
       "    <tr>\n",
       "      <th>10</th>\n",
       "      <td>20.0</td>\n",
       "      <td>100.0</td>\n",
       "      <td>0.916822</td>\n",
       "      <td>0.042250</td>\n",
       "      <td>88.24</td>\n",
       "      <td>0.036316</td>\n",
       "      <td>648.0</td>\n",
       "    </tr>\n",
       "    <tr>\n",
       "      <th>11</th>\n",
       "      <td>21.0</td>\n",
       "      <td>100.0</td>\n",
       "      <td>0.917518</td>\n",
       "      <td>0.060383</td>\n",
       "      <td>88.24</td>\n",
       "      <td>0.038360</td>\n",
       "      <td>734.0</td>\n",
       "    </tr>\n",
       "    <tr>\n",
       "      <th>12</th>\n",
       "      <td>22.0</td>\n",
       "      <td>100.0</td>\n",
       "      <td>0.943304</td>\n",
       "      <td>0.059697</td>\n",
       "      <td>90.20</td>\n",
       "      <td>0.034506</td>\n",
       "      <td>644.0</td>\n",
       "    </tr>\n",
       "    <tr>\n",
       "      <th>13</th>\n",
       "      <td>23.0</td>\n",
       "      <td>100.0</td>\n",
       "      <td>0.951304</td>\n",
       "      <td>0.046549</td>\n",
       "      <td>90.20</td>\n",
       "      <td>0.033549</td>\n",
       "      <td>612.0</td>\n",
       "    </tr>\n",
       "    <tr>\n",
       "      <th>14</th>\n",
       "      <td>24.0</td>\n",
       "      <td>100.0</td>\n",
       "      <td>0.935304</td>\n",
       "      <td>0.073977</td>\n",
       "      <td>88.24</td>\n",
       "      <td>0.035945</td>\n",
       "      <td>673.0</td>\n",
       "    </tr>\n",
       "    <tr>\n",
       "      <th>15</th>\n",
       "      <td>25.0</td>\n",
       "      <td>100.0</td>\n",
       "      <td>0.909518</td>\n",
       "      <td>0.076042</td>\n",
       "      <td>88.24</td>\n",
       "      <td>0.032723</td>\n",
       "      <td>681.0</td>\n",
       "    </tr>\n",
       "    <tr>\n",
       "      <th>16</th>\n",
       "      <td>26.0</td>\n",
       "      <td>100.0</td>\n",
       "      <td>0.942213</td>\n",
       "      <td>0.040150</td>\n",
       "      <td>86.27</td>\n",
       "      <td>0.031133</td>\n",
       "      <td>569.0</td>\n",
       "    </tr>\n",
       "    <tr>\n",
       "      <th>17</th>\n",
       "      <td>27.0</td>\n",
       "      <td>100.0</td>\n",
       "      <td>0.935304</td>\n",
       "      <td>0.073977</td>\n",
       "      <td>86.27</td>\n",
       "      <td>0.031029</td>\n",
       "      <td>555.0</td>\n",
       "    </tr>\n",
       "    <tr>\n",
       "      <th>18</th>\n",
       "      <td>28.0</td>\n",
       "      <td>100.0</td>\n",
       "      <td>0.935304</td>\n",
       "      <td>0.073977</td>\n",
       "      <td>88.24</td>\n",
       "      <td>0.034411</td>\n",
       "      <td>658.0</td>\n",
       "    </tr>\n",
       "    <tr>\n",
       "      <th>19</th>\n",
       "      <td>29.0</td>\n",
       "      <td>100.0</td>\n",
       "      <td>0.934609</td>\n",
       "      <td>0.053667</td>\n",
       "      <td>90.20</td>\n",
       "      <td>0.029043</td>\n",
       "      <td>562.0</td>\n",
       "    </tr>\n",
       "    <tr>\n",
       "      <th>20</th>\n",
       "      <td>30.0</td>\n",
       "      <td>100.0</td>\n",
       "      <td>0.934213</td>\n",
       "      <td>0.053511</td>\n",
       "      <td>88.24</td>\n",
       "      <td>0.029533</td>\n",
       "      <td>558.0</td>\n",
       "    </tr>\n",
       "    <tr>\n",
       "      <th>21</th>\n",
       "      <td>35.0</td>\n",
       "      <td>100.0</td>\n",
       "      <td>0.942213</td>\n",
       "      <td>0.040150</td>\n",
       "      <td>84.31</td>\n",
       "      <td>0.028238</td>\n",
       "      <td>524.0</td>\n",
       "    </tr>\n",
       "    <tr>\n",
       "      <th>22</th>\n",
       "      <td>40.0</td>\n",
       "      <td>100.0</td>\n",
       "      <td>0.935304</td>\n",
       "      <td>0.073977</td>\n",
       "      <td>86.27</td>\n",
       "      <td>0.029084</td>\n",
       "      <td>549.0</td>\n",
       "    </tr>\n",
       "    <tr>\n",
       "      <th>23</th>\n",
       "      <td>45.0</td>\n",
       "      <td>100.0</td>\n",
       "      <td>0.934213</td>\n",
       "      <td>0.053511</td>\n",
       "      <td>88.24</td>\n",
       "      <td>0.025631</td>\n",
       "      <td>486.0</td>\n",
       "    </tr>\n",
       "    <tr>\n",
       "      <th>24</th>\n",
       "      <td>50.0</td>\n",
       "      <td>100.0</td>\n",
       "      <td>0.926609</td>\n",
       "      <td>0.068190</td>\n",
       "      <td>86.27</td>\n",
       "      <td>0.025078</td>\n",
       "      <td>486.0</td>\n",
       "    </tr>\n",
       "    <tr>\n",
       "      <th>25</th>\n",
       "      <td>55.0</td>\n",
       "      <td>100.0</td>\n",
       "      <td>0.951304</td>\n",
       "      <td>0.046549</td>\n",
       "      <td>84.31</td>\n",
       "      <td>0.023997</td>\n",
       "      <td>483.0</td>\n",
       "    </tr>\n",
       "    <tr>\n",
       "      <th>26</th>\n",
       "      <td>60.0</td>\n",
       "      <td>100.0</td>\n",
       "      <td>0.934213</td>\n",
       "      <td>0.053511</td>\n",
       "      <td>80.39</td>\n",
       "      <td>0.024418</td>\n",
       "      <td>487.0</td>\n",
       "    </tr>\n",
       "    <tr>\n",
       "      <th>27</th>\n",
       "      <td>65.0</td>\n",
       "      <td>100.0</td>\n",
       "      <td>0.926213</td>\n",
       "      <td>0.068021</td>\n",
       "      <td>84.31</td>\n",
       "      <td>0.021832</td>\n",
       "      <td>418.0</td>\n",
       "    </tr>\n",
       "    <tr>\n",
       "      <th>28</th>\n",
       "      <td>70.0</td>\n",
       "      <td>100.0</td>\n",
       "      <td>0.935304</td>\n",
       "      <td>0.073977</td>\n",
       "      <td>84.31</td>\n",
       "      <td>0.021344</td>\n",
       "      <td>419.0</td>\n",
       "    </tr>\n",
       "  </tbody>\n",
       "</table>\n",
       "</div>"
      ],
      "text/plain": [
       "    neuron  train        cv       std  akurasi      loss    iter\n",
       "0     10.0  100.0  0.918609  0.083256    90.20  0.051587  1054.0\n",
       "1     11.0  100.0  0.934609  0.053667    88.24  0.048242   860.0\n",
       "2     12.0  100.0  0.909518  0.067959    86.27  0.040979   792.0\n",
       "3     13.0  100.0  0.909518  0.062148    84.31  0.049895   944.0\n",
       "4     14.0  100.0  0.926609  0.068190    86.27  0.042308   752.0\n",
       "5     15.0  100.0  0.926213  0.068021    88.24  0.041328   771.0\n",
       "6     16.0  100.0  0.926213  0.068021    92.16  0.043531   809.0\n",
       "7     17.0  100.0  0.926213  0.068021    86.27  0.038435   778.0\n",
       "8     18.0  100.0  0.935304  0.073977    86.27  0.039806   738.0\n",
       "9     19.0  100.0  0.934213  0.053511    88.24  0.038173   721.0\n",
       "10    20.0  100.0  0.916822  0.042250    88.24  0.036316   648.0\n",
       "11    21.0  100.0  0.917518  0.060383    88.24  0.038360   734.0\n",
       "12    22.0  100.0  0.943304  0.059697    90.20  0.034506   644.0\n",
       "13    23.0  100.0  0.951304  0.046549    90.20  0.033549   612.0\n",
       "14    24.0  100.0  0.935304  0.073977    88.24  0.035945   673.0\n",
       "15    25.0  100.0  0.909518  0.076042    88.24  0.032723   681.0\n",
       "16    26.0  100.0  0.942213  0.040150    86.27  0.031133   569.0\n",
       "17    27.0  100.0  0.935304  0.073977    86.27  0.031029   555.0\n",
       "18    28.0  100.0  0.935304  0.073977    88.24  0.034411   658.0\n",
       "19    29.0  100.0  0.934609  0.053667    90.20  0.029043   562.0\n",
       "20    30.0  100.0  0.934213  0.053511    88.24  0.029533   558.0\n",
       "21    35.0  100.0  0.942213  0.040150    84.31  0.028238   524.0\n",
       "22    40.0  100.0  0.935304  0.073977    86.27  0.029084   549.0\n",
       "23    45.0  100.0  0.934213  0.053511    88.24  0.025631   486.0\n",
       "24    50.0  100.0  0.926609  0.068190    86.27  0.025078   486.0\n",
       "25    55.0  100.0  0.951304  0.046549    84.31  0.023997   483.0\n",
       "26    60.0  100.0  0.934213  0.053511    80.39  0.024418   487.0\n",
       "27    65.0  100.0  0.926213  0.068021    84.31  0.021832   418.0\n",
       "28    70.0  100.0  0.935304  0.073977    84.31  0.021344   419.0"
      ]
     },
     "execution_count": 35,
     "metadata": {},
     "output_type": "execute_result"
    }
   ],
   "source": [
    "import pandas as pd\n",
    "summary = [ ]\n",
    "i=0\n",
    "while(i<len(layers)):\n",
    "    summary.append([layers[i], train_data[i], cv_score[i],std_cv[i] ,data[i],loss[i], iterasi[i]]) \n",
    "    i+=1\n",
    "    \n",
    "df = pd.DataFrame(np.array(summary))\n",
    "df.columns = (['neuron','train','cv','std','akurasi','loss','iter'])\n",
    "df"
   ]
  },
  {
   "cell_type": "code",
   "execution_count": 36,
   "metadata": {},
   "outputs": [
    {
     "name": "stdout",
     "output_type": "stream",
     "text": [
      "[10, 100.0, 0.918608695652174, 0.08325622645698239, 90.2, 0.051587106669125145, 1054]\n",
      "[11, 100.0, 0.934608695652174, 0.05366675864058467, 88.24, 0.04824228196773734, 860]\n",
      "[12, 100.0, 0.9095177865612648, 0.06795939615915234, 86.27, 0.04097902315365077, 792]\n",
      "[13, 100.0, 0.9095177865612648, 0.06214769391554143, 84.31, 0.049895379229901456, 944]\n",
      "[14, 100.0, 0.926608695652174, 0.0681898827790571, 86.27, 0.042308294707712434, 752]\n",
      "[15, 100.0, 0.9262134387351779, 0.06802086702517772, 88.24, 0.041327602248216244, 771]\n",
      "[16, 100.0, 0.9262134387351779, 0.06802086702517772, 92.16, 0.04353133807452369, 809]\n",
      "[17, 100.0, 0.9262134387351779, 0.06802086702517772, 86.27, 0.038435461950358636, 778]\n",
      "[18, 100.0, 0.9353043478260871, 0.07397664782511067, 86.27, 0.03980578229950982, 738]\n",
      "[19, 100.0, 0.9342134387351777, 0.053510964587587716, 88.24, 0.03817275685826663, 721]\n",
      "[20, 100.0, 0.9168221343873519, 0.042249555984200216, 88.24, 0.03631612497484614, 648]\n",
      "[21, 100.0, 0.9175177865612649, 0.060382541135990515, 88.24, 0.03836034519659613, 734]\n",
      "[22, 100.0, 0.9433043478260869, 0.05969652299944331, 90.2, 0.034505850338848135, 644]\n",
      "[23, 100.0, 0.9513043478260869, 0.04654895587449487, 90.2, 0.03354852325578784, 612]\n",
      "[24, 100.0, 0.9353043478260871, 0.07397664782511067, 88.24, 0.03594517440313082, 673]\n",
      "[25, 100.0, 0.9095177865612648, 0.07604167185839503, 88.24, 0.032722672567977076, 681]\n",
      "[26, 100.0, 0.9422134387351779, 0.040149823303860493, 86.27, 0.03113250492310468, 569]\n",
      "[27, 100.0, 0.9353043478260871, 0.07397664782511067, 86.27, 0.031028979752476663, 555]\n",
      "[28, 100.0, 0.9353043478260871, 0.07397664782511067, 88.24, 0.034411467949355685, 658]\n",
      "[29, 100.0, 0.934608695652174, 0.05366675864058467, 90.2, 0.02904329794213378, 562]\n",
      "[30, 100.0, 0.9342134387351777, 0.053510964587587716, 88.24, 0.029533405205722427, 558]\n",
      "[35, 100.0, 0.9422134387351779, 0.040149823303860493, 84.31, 0.02823765811807448, 524]\n",
      "[40, 100.0, 0.9353043478260871, 0.07397664782511067, 86.27, 0.029084351519759855, 549]\n",
      "[45, 100.0, 0.9342134387351777, 0.053510964587587716, 88.24, 0.025631366972145485, 486]\n",
      "[50, 100.0, 0.926608695652174, 0.0681898827790571, 86.27, 0.02507777020916057, 486]\n",
      "[55, 100.0, 0.9513043478260869, 0.04654895587449487, 84.31, 0.023996832670104277, 483]\n",
      "[60, 100.0, 0.9342134387351777, 0.053510964587587716, 80.39, 0.024417892699822547, 487]\n",
      "[65, 100.0, 0.9262134387351779, 0.06802086702517772, 84.31, 0.021832474541723882, 418]\n",
      "[70, 100.0, 0.9353043478260871, 0.07397664782511067, 84.31, 0.02134414698431544, 419]\n"
     ]
    }
   ],
   "source": [
    "i=0\n",
    "while(i<len(layers)):\n",
    "    print([layers[i], train_data[i], cv_score[i],std_cv[i] ,data[i],loss[i], iterasi[i]]) \n",
    "    i=i+1"
   ]
  },
  {
   "cell_type": "code",
   "execution_count": 5,
   "metadata": {
    "colab": {
     "autoexec": {
      "startup": false,
      "wait_interval": 0
     },
     "base_uri": "https://localhost:8080/",
     "height": 136
    },
    "colab_type": "code",
    "executionInfo": {
     "elapsed": 1020,
     "status": "ok",
     "timestamp": 1526948254782,
     "user": {
      "displayName": "Hamamul Fauzi",
      "photoUrl": "//lh6.googleusercontent.com/-QEW1kiRsz4A/AAAAAAAAAAI/AAAAAAAABEs/eKYmF5qDH1s/s50-c-k-no/photo.jpg",
      "userId": "116230313463027811477"
     },
     "user_tz": -420
    },
    "id": "r16gGGqSMJsr",
    "outputId": "cd24b545-a2e6-4110-93e2-7f1ffc1bf5ea"
   },
   "outputs": [
    {
     "name": "stdout",
     "output_type": "stream",
     "text": [
      "0.8920509815216064\n",
      "Loss Pelatihan : \n",
      "6.301402826061264e-05\n",
      "Jumlah iterasi : \n",
      "18\n"
     ]
    }
   ],
   "source": [
    "from sklearn.neural_network import MLPClassifier\n",
    "clf = MLPClassifier(activation='relu',solver='lbfgs', alpha=1e-5, max_iter=2500,\n",
    "            hidden_layer_sizes=(22), random_state=1)\n",
    "\n",
    "import time\n",
    "start = time.time()\n",
    "clf.fit(X_train, y_train)\n",
    "end = time.time()\n",
    "print(end - start)\n",
    "\n",
    "print('Loss Pelatihan : ')\n",
    "print(clf.loss_)    \n",
    "\n",
    "print('Jumlah iterasi : ')\n",
    "print(clf.n_iter_)"
   ]
  },
  {
   "cell_type": "code",
   "execution_count": 6,
   "metadata": {
    "colab": {
     "autoexec": {
      "startup": false,
      "wait_interval": 0
     },
     "base_uri": "https://localhost:8080/",
     "height": 153
    },
    "colab_type": "code",
    "executionInfo": {
     "elapsed": 1097,
     "status": "ok",
     "timestamp": 1526948273662,
     "user": {
      "displayName": "Hamamul Fauzi",
      "photoUrl": "//lh6.googleusercontent.com/-QEW1kiRsz4A/AAAAAAAAAAI/AAAAAAAABEs/eKYmF5qDH1s/s50-c-k-no/photo.jpg",
      "userId": "116230313463027811477"
     },
     "user_tz": -420
    },
    "id": "HuBYco5s7E8r",
    "outputId": "cde7d071-36b4-4221-91d8-b7c87a223e2a"
   },
   "outputs": [
    {
     "name": "stdout",
     "output_type": "stream",
     "text": [
      "Hasil Prediksi : \n",
      "[5. 3. 5. 3. 5. 3. 1. 1. 5. 5. 3. 4. 5. 3. 3. 2. 3. 4. 5. 4. 5. 5. 5. 5.\n",
      " 3. 5. 2. 5. 5. 1. 1. 5. 5. 1. 3. 1. 1. 3. 4. 1. 5. 5. 5. 1. 3. 5. 1. 5.\n",
      " 1. 3. 4.]\n",
      "Nilai Target seharusnya : \n",
      "[5. 3. 5. 3. 5. 3. 1. 1. 3. 5. 3. 4. 5. 5. 3. 2. 3. 4. 5. 4. 5. 5. 5. 5.\n",
      " 3. 5. 1. 5. 5. 1. 1. 5. 5. 1. 3. 2. 1. 3. 4. 1. 5. 5. 5. 1. 3. 5. 1. 5.\n",
      " 1. 3. 4.]\n"
     ]
    }
   ],
   "source": [
    "#prediksi  data test\n",
    "result = clf.predict(X_test)\n",
    "print('Hasil Prediksi : ')\n",
    "print(result)\n",
    "\n",
    "print('Nilai Target seharusnya : ')\n",
    "print(y_test)"
   ]
  },
  {
   "cell_type": "code",
   "execution_count": 23,
   "metadata": {},
   "outputs": [],
   "source": [
    "import itertools\n",
    "from sklearn.metrics import confusion_matrix\n",
    "import matplotlib.pyplot as plt\n",
    "def plot_confusion_matrix(cm, classes,\n",
    "                          normalize=False,\n",
    "                          title='Confusion matrix',\n",
    "                          cmap=plt.cm.Blues):\n",
    "    \"\"\"\n",
    "    This function prints and plots the confusion matrix.\n",
    "    Normalization can be applied by setting `normalize=True`.\n",
    "    \"\"\"\n",
    "    if normalize:\n",
    "        cm = cm.astype('float') / cm.sum(axis=1)[:, np.newaxis]\n",
    "        print(\"Normalized confusion matrix\")\n",
    "    else:\n",
    "        print('Confusion matrix, without normalization')\n",
    "\n",
    "    print(cm)\n",
    "\n",
    "    plt.imshow(cm, interpolation='nearest', cmap=cmap)\n",
    "    plt.title(title)\n",
    "    plt.colorbar()\n",
    "    tick_marks = np.arange(len(classes))\n",
    "    plt.xticks(tick_marks, classes, rotation=45)\n",
    "    plt.yticks(tick_marks, classes)\n",
    "\n",
    "    fmt = '.2f' if normalize else 'd'\n",
    "    thresh = cm.max() / 2.\n",
    "    for i, j in itertools.product(range(cm.shape[0]), range(cm.shape[1])):\n",
    "        plt.text(j, i, format(cm[i, j], fmt),\n",
    "                 horizontalalignment=\"center\",\n",
    "                 color=\"white\" if cm[i, j] > thresh else \"black\")\n",
    "\n",
    "    plt.tight_layout()\n",
    "    plt.ylabel('True label')\n",
    "    plt.xlabel('Predicted label')"
   ]
  },
  {
   "cell_type": "code",
   "execution_count": 24,
   "metadata": {},
   "outputs": [
    {
     "name": "stdout",
     "output_type": "stream",
     "text": [
      "Confusion matrix, without normalization\n",
      "[[10  1  0  0  0]\n",
      " [ 1  1  0  0  0]\n",
      " [ 0  0 11  0  1]\n",
      " [ 0  0  0  5  0]\n",
      " [ 0  0  1  0 20]]\n"
     ]
    },
    {
     "data": {
      "image/png": "[encoded data removed]",
      "text/plain": [
       "<matplotlib.figure.Figure at 0xb249278>"
      ]
     },
     "metadata": {},
     "output_type": "display_data"
    }
   ],
   "source": [
    "# Compute confusion matrix\n",
    "cnf_matrix = confusion_matrix(y_test, result)\n",
    "np.set_printoptions(precision=2)\n",
    "\n",
    "class_names = ['Basofil', 'Eosinofil','Netrofil','Monosit','Limfosit']\n",
    "\n",
    "\n",
    "# Plot non-normalized confusion matrix\n",
    "plt.figure()\n",
    "plot_confusion_matrix(cnf_matrix, classes=class_names,\n",
    "                      title='Confusion matrix, without normalization')"
   ]
  },
  {
   "cell_type": "code",
   "execution_count": 7,
   "metadata": {},
   "outputs": [
    {
     "name": "stdout",
     "output_type": "stream",
     "text": [
      "             precision    recall  f1-score   support\n",
      "\n",
      "    basofil       0.92      1.00      0.96        11\n",
      "  eosinofil       1.00      0.50      0.67         2\n",
      "   netrofil       0.92      0.92      0.92        12\n",
      "    monosit       1.00      1.00      1.00         5\n",
      "   limfosit       0.95      0.95      0.95        21\n",
      "\n",
      "avg / total       0.94      0.94      0.94        51\n",
      "\n"
     ]
    }
   ],
   "source": [
    "from sklearn.metrics import classification_report,confusion_matrix, roc_auc_score\n",
    "print(classification_report(y_test,result, target_names=['basofil','eosinofil','netrofil','monosit', 'limfosit']))"
   ]
  },
  {
   "cell_type": "code",
   "execution_count": 25,
   "metadata": {},
   "outputs": [
    {
     "data": {
      "image/png": "[encoded data removed]",
      "text/plain": [
       "<matplotlib.figure.Figure at 0xb22dcc0>"
      ]
     },
     "metadata": {},
     "output_type": "display_data"
    }
   ],
   "source": [
    "from yellowbrick.classifier import ClassificationReport\n",
    "\n",
    "# Instantiate the classification model and visualizer\n",
    "#bayes = GaussianNB()\n",
    "#classes= ['basofil','eosinofil','netrofil']\n",
    "\n",
    "class_names = ['Basofil', 'Eosinofil','Netrofil','Monosit','Limfosit']\n",
    "visualizer = ClassificationReport(clf, classes=class_names, support=True)\n",
    "\n",
    "visualizer.fit(X_train, y_train)  # Fit the visualizer and the model\n",
    "visualizer.score(X_test, y_test)  # Evaluate the model on the test data\n",
    "g = visualizer.poof()             # Draw/show/poof the data"
   ]
  },
  {
   "cell_type": "code",
   "execution_count": 8,
   "metadata": {
    "colab": {
     "autoexec": {
      "startup": false,
      "wait_interval": 0
     },
     "base_uri": "https://localhost:8080/",
     "height": 34
    },
    "colab_type": "code",
    "executionInfo": {
     "elapsed": 863,
     "status": "ok",
     "timestamp": 1526948280791,
     "user": {
      "displayName": "Hamamul Fauzi",
      "photoUrl": "//lh6.googleusercontent.com/-QEW1kiRsz4A/AAAAAAAAAAI/AAAAAAAABEs/eKYmF5qDH1s/s50-c-k-no/photo.jpg",
      "userId": "116230313463027811477"
     },
     "user_tz": -420
    },
    "id": "Ixh7dtJz_jNt",
    "outputId": "42a6a97c-f3c7-4acb-a1a2-ae08379a49f0"
   },
   "outputs": [
    {
     "name": "stdout",
     "output_type": "stream",
     "text": [
      "Akurasi Data Uji: 0.9215686274509803\n"
     ]
    }
   ],
   "source": [
    "# Cek kemampuan kecerdasan buatan dengan data uji \n",
    "test_accuracy = clf.score(X_test, y_test)\n",
    "print('Akurasi Data Uji:', test_accuracy)"
   ]
  },
  {
   "cell_type": "code",
   "execution_count": 103,
   "metadata": {
    "colab": {
     "autoexec": {
      "startup": false,
      "wait_interval": 0
     },
     "base_uri": "https://localhost:8080/",
     "height": 139
    },
    "colab_type": "code",
    "executionInfo": {
     "elapsed": 1195,
     "status": "ok",
     "timestamp": 1526948272128,
     "user": {
      "displayName": "Hamamul Fauzi",
      "photoUrl": "//lh6.googleusercontent.com/-QEW1kiRsz4A/AAAAAAAAAAI/AAAAAAAABEs/eKYmF5qDH1s/s50-c-k-no/photo.jpg",
      "userId": "116230313463027811477"
     },
     "user_tz": -420
    },
    "id": "4zm7E6shdp9U",
    "outputId": "19acc367-4207-4cd0-c653-2696f84d5926"
   },
   "outputs": [
    {
     "name": "stdout",
     "output_type": "stream",
     "text": [
      "[0.8        0.92       1.         0.95652174 0.95454545]\n",
      "Akurasi:  0.9262134387351779\n",
      "SD:  0.06802086702517772\n"
     ]
    }
   ],
   "source": [
    "# Lakukan proses cross-validation untuk mengetahui seberapa konsisten kemampuan kecerdasan buatan dengan data latih\n",
    "# yang berbeda-beda subset nya. Dalam contoh ini dilakukan 10 kali cross-validation\n",
    "from sklearn.model_selection import cross_val_score\n",
    "accuracies = cross_val_score(estimator=clf, X=X_train, y=y_train, cv=5)\n",
    "print(accuracies)\n",
    "\n",
    "# Catat rerata akurasi dan standar deviasi 10 percobaan pelatihan\n",
    "avg_accuracy = accuracies.mean()\n",
    "\n",
    "std_accuracy = accuracies.std()\n",
    "print('Akurasi: ', avg_accuracy)\n",
    "print('SD: ', std_accuracy)"
   ]
  },
  {
   "cell_type": "code",
   "execution_count": 127,
   "metadata": {
    "colab": {
     "autoexec": {
      "startup": false,
      "wait_interval": 0
     },
     "base_uri": "https://localhost:8080/",
     "height": 34
    },
    "colab_type": "code",
    "executionInfo": {
     "elapsed": 1099,
     "status": "ok",
     "timestamp": 1526948295507,
     "user": {
      "displayName": "Hamamul Fauzi",
      "photoUrl": "//lh6.googleusercontent.com/-QEW1kiRsz4A/AAAAAAAAAAI/AAAAAAAABEs/eKYmF5qDH1s/s50-c-k-no/photo.jpg",
      "userId": "116230313463027811477"
     },
     "user_tz": -420
    },
    "id": "VBySxjPXv6Rr",
    "outputId": "48edad83-143e-42df-d926-4165d85ca59c"
   },
   "outputs": [
    {
     "name": "stdout",
     "output_type": "stream",
     "text": [
      "[(25, 11), (11, 5)]\n"
     ]
    }
   ],
   "source": [
    "#Banyak bobot yang digunakan\n",
    "print([coef.shape for coef in clf.coefs_])"
   ]
  },
  {
   "cell_type": "code",
   "execution_count": 150,
   "metadata": {
    "colab": {
     "autoexec": {
      "startup": false,
      "wait_interval": 0
     },
     "base_uri": "https://localhost:8080/",
     "height": 3529
    },
    "colab_type": "code",
    "executionInfo": {
     "elapsed": 997,
     "status": "error",
     "timestamp": 1526948298700,
     "user": {
      "displayName": "Hamamul Fauzi",
      "photoUrl": "//lh6.googleusercontent.com/-QEW1kiRsz4A/AAAAAAAAAAI/AAAAAAAABEs/eKYmF5qDH1s/s50-c-k-no/photo.jpg",
      "userId": "116230313463027811477"
     },
     "user_tz": -420
    },
    "id": "ya7NaogW60LP",
    "outputId": "0f595a39-7bbb-45dc-dd34-31d73149cebc"
   },
   "outputs": [
    {
     "name": "stdout",
     "output_type": "stream",
     "text": [
      "weights between input and first hidden layer:\n",
      "[[-0.41100154 -0.16132334 -0.64698867 ... -0.4387198   0.15366704\n",
      "   0.44700897]\n",
      " [ 1.09927008  1.08967417  1.1910275  ... -1.05075284  0.04153872\n",
      "  -1.09733208]\n",
      " [ 0.20043139 -0.10959198  0.47269089 ...  0.7090568   0.18691759\n",
      "  -0.52090086]\n",
      " ...\n",
      " [-0.39809067  0.04797247 -0.05836089 ... -0.19556986  0.13383974\n",
      "   0.25751101]\n",
      " [ 0.17302446 -0.05583743  0.42731508 ...  0.748657    0.23174887\n",
      "  -0.44095196]\n",
      " [-0.67154433  0.49553168 -0.54136712 ...  0.44003958  0.01941666\n",
      "   0.15624794]]\n",
      "\n",
      "weights between first hidden and second hidden layer:\n",
      "[[-3.43398907e-01 -1.10726042e-01 -9.42850028e-01  1.32344723e+00\n",
      "   4.48408510e-02]\n",
      " [ 9.94848639e-01 -8.31009246e-01  3.05758164e-01 -8.35723408e-01\n",
      "   2.65643681e-01]\n",
      " [-7.41945125e-01 -4.59524297e-01 -1.23010659e+00  1.89605946e+00\n",
      "   5.93475184e-01]\n",
      " [ 4.44528361e-01 -2.67258164e-01  3.47711740e-01 -4.47110347e-02\n",
      "  -5.21896957e-01]\n",
      " [-1.95700993e-01  6.45779087e-01 -3.92485562e-01  4.35141948e-01\n",
      "  -5.32660361e-01]\n",
      " [ 1.96042119e-01  1.79056104e-01  6.33532764e-01 -9.40257703e-01\n",
      "  -4.59134953e-01]\n",
      " [ 3.81554538e-01 -5.05356664e-01 -3.07636251e-01 -2.77071586e-01\n",
      "   6.60833502e-01]\n",
      " [-1.00299355e+00  3.38316266e-01  7.71586758e-01 -2.41935500e-01\n",
      "  -3.51185540e-01]\n",
      " [-2.15732489e-01  1.07266300e+00  7.13987913e-01 -4.78948981e-01\n",
      "  -6.76363733e-01]\n",
      " [ 1.25099627e+00 -6.12410128e-01  1.11273264e-01 -2.77531675e-01\n",
      "  -8.69092037e-02]\n",
      " [ 1.82309637e+00 -4.47163513e-01 -4.49708465e-01 -4.87825523e-01\n",
      "  -4.94966684e-01]\n",
      " [ 8.47904224e-01 -4.10696462e-01 -1.05533369e+00 -5.09445489e-02\n",
      "   1.03487074e+00]\n",
      " [-5.04428533e-01 -4.79498151e-01  1.37758666e+00 -1.03497214e+00\n",
      "   4.12038133e-01]\n",
      " [-8.89998288e-03 -3.12502726e-01  6.16308529e-01  1.93358046e-02\n",
      "  -1.70879975e-01]\n",
      " [ 4.41524236e-01 -3.76606587e-01  8.33218234e-01 -5.23492359e-01\n",
      "   3.14861216e-01]\n",
      " [-2.87136435e-01 -2.29978886e-01 -3.56433590e-01  1.84986094e-01\n",
      "   2.67682270e-01]\n",
      " [-2.30021186e-01 -4.08309859e-01  4.32449514e-01 -1.89959784e-01\n",
      "  -1.04870579e-01]\n",
      " [ 8.31170856e-01 -4.16006854e-01  8.40767461e-01 -7.66903026e-01\n",
      "  -5.64986319e-01]\n",
      " [-6.30223547e-01 -6.71196866e-03  5.72549736e-01  8.72226881e-01\n",
      "  -5.31382037e-01]\n",
      " [-5.56190663e-01 -3.92683432e-01  1.12529594e-01  2.07570949e-01\n",
      "   1.15754512e+00]\n",
      " [-4.23502185e-02  6.59410907e-02 -7.98919799e-01 -1.65771547e-01\n",
      "   9.41762203e-01]\n",
      " [-4.23062097e-01 -4.75243856e-01  3.92658637e-02  7.93429645e-01\n",
      "  -3.97663852e-01]\n",
      " [ 1.08583518e+00  3.59256334e-01 -9.31038252e-01  3.98495657e-01\n",
      "  -6.40578486e-01]\n",
      " [ 6.82326546e-02  7.67155334e-02 -4.45082878e-01 -1.48025836e-01\n",
      "   9.28728089e-01]\n",
      " [ 1.77884147e+00  9.66592339e-02 -2.66909809e-01 -8.61794911e-01\n",
      "  -4.36291099e-01]\n",
      " [-4.64657699e-01 -3.82996574e-01  6.34430341e-01 -3.24390347e-01\n",
      "   2.66904076e-01]\n",
      " [-7.22822358e-01 -3.45099772e-01  2.59664521e-01  1.01569597e+00\n",
      "  -4.08045465e-01]\n",
      " [ 7.69584455e-01 -5.01779593e-01 -4.67876595e-01  3.63330078e-01\n",
      "  -2.14119388e-01]\n",
      " [-4.33296788e-01  1.89217147e-02 -1.51586701e-01 -2.00538610e-01\n",
      "   9.33694590e-01]\n",
      " [-4.30299792e-01 -6.90133939e-01  3.26823886e-02  1.39966800e+00\n",
      "  -1.02161889e-02]\n",
      " [ 3.67944671e-01 -3.81120943e-01  6.02951843e-01 -5.34985938e-01\n",
      "   4.51216203e-01]\n",
      " [-2.45303355e-01 -3.57190328e-01  1.78280589e+00  4.26301313e-01\n",
      "  -1.25202883e+00]\n",
      " [-1.39927676e-01 -4.75443457e-01  3.72463515e-01 -5.71389569e-01\n",
      "   5.55407367e-01]\n",
      " [ 9.40764664e-01 -6.70185104e-01  7.90757141e-01 -9.45185675e-01\n",
      "   6.30167081e-01]\n",
      " [-3.07599166e-01 -6.34008802e-01 -1.66077789e+00  9.37528121e-01\n",
      "   5.73137458e-01]\n",
      " [ 6.07891618e-01  9.61438848e-02  5.95401060e-01 -5.92746207e-01\n",
      "  -7.82642045e-01]\n",
      " [-1.92545076e-01 -8.39114914e-02 -8.97220539e-01 -7.02954212e-03\n",
      "   1.37837146e+00]\n",
      " [ 1.68403160e+00  6.46295162e-01 -1.18815996e+00 -1.03397564e+00\n",
      "  -2.10924910e-02]\n",
      " [-4.13512475e-01 -2.79896067e-01 -2.09818722e+00  1.30757774e+00\n",
      "   1.90325745e+00]\n",
      " [ 5.27923497e-01 -2.23434211e-01  1.16222331e+00 -1.16837765e-01\n",
      "  -1.18802948e+00]\n",
      " [ 9.50726711e-01 -1.31237154e+00 -4.91383716e-01 -2.24837348e-01\n",
      "   3.78045198e-01]\n",
      " [-1.13530699e-01  1.78205857e-01 -1.27270421e-01  1.74861651e-01\n",
      "  -6.92596508e-02]\n",
      " [ 5.26107337e-02 -3.54724793e-01  6.53556465e-01 -1.34305559e-02\n",
      "  -5.43298088e-02]\n",
      " [-2.57881233e-01  3.40934956e-02 -4.87948333e-01 -4.56365641e-01\n",
      "   1.16520850e-01]\n",
      " [-4.02243626e-01 -7.36783625e-01  1.51008876e+00 -8.37583296e-01\n",
      "   6.25377859e-02]\n",
      " [-1.39973498e-01 -4.01636196e-01  9.58445678e-02  6.99381764e-02\n",
      "   3.43233205e-01]\n",
      " [ 1.76453300e-01 -2.72143759e-01 -2.81752199e-01  1.70762758e-01\n",
      "   1.22764811e-01]\n",
      " [-2.17439875e-01 -3.26042125e-01  9.05730776e-01 -6.45527515e-02\n",
      "   3.99775054e-01]\n",
      " [ 9.55292508e-01 -1.98992009e-01 -1.36889200e+00 -8.09029659e-01\n",
      "   1.01136146e+00]\n",
      " [-4.08974757e-01  2.47273472e-01  3.42310442e-01  3.50008806e-01\n",
      "  -1.35210249e-01]\n",
      " [-1.50419625e-01  1.57938201e-01 -4.36494386e-01 -1.58504917e-01\n",
      "   7.96868776e-01]\n",
      " [-3.62969191e-01 -5.40800772e-01  3.76802815e-01 -8.60358029e-01\n",
      "   1.25709606e+00]\n",
      " [-3.88662973e-01 -2.65764147e-01 -9.07565231e-02 -6.93559227e-02\n",
      "   8.49269413e-01]\n",
      " [-3.81200896e-01 -2.11370122e-01  2.69851597e-01 -2.08540143e-01\n",
      "  -4.58697901e-02]\n",
      " [ 4.04662057e-01 -4.18251197e-02 -8.95503761e-01  4.30383474e-01\n",
      "   8.60780709e-01]\n",
      " [-6.85596612e-01  5.12038284e-01  7.26898285e-02 -5.85580130e-01\n",
      "   2.59182020e-01]\n",
      " [-1.38872214e-02  2.80001815e-01  2.64918750e-01 -7.30517133e-01\n",
      "  -1.61538896e-01]\n",
      " [ 1.89410612e+00 -4.50231837e-01 -3.39499064e-01 -9.32394375e-01\n",
      "  -6.24119633e-01]\n",
      " [-6.01015646e-01  1.31418909e+00  1.79716575e-01 -7.05429076e-01\n",
      "  -5.36846197e-01]\n",
      " [-1.26669296e+00  4.33822387e-01  9.10140034e-01 -2.73552591e-01\n",
      "   2.89833364e-01]\n",
      " [-1.44039195e+00  5.35821625e-01  1.48926489e+00  2.78477030e-01\n",
      "  -5.01767520e-01]\n",
      " [ 2.32794662e-01  1.25723665e+00 -4.15846753e-01 -2.01685435e-01\n",
      "  -4.83712642e-01]\n",
      " [ 8.36062489e-01 -1.65328927e-01  2.55370877e-02 -5.18766569e-02\n",
      "  -2.52172499e-01]\n",
      " [ 1.63440568e+00  8.38571346e-02 -1.26575216e+00 -6.23362716e-01\n",
      "   4.38090296e-01]\n",
      " [-2.18892157e-01 -8.58849379e-03  1.05213519e-01 -2.87413827e-01\n",
      "   1.19636991e-01]\n",
      " [ 4.80347262e-02 -1.28155262e-01 -9.42198314e-02 -8.01645525e-03\n",
      "   3.66867871e-01]\n",
      " [-5.78712717e-02 -5.13929941e-01 -7.80576841e-01 -2.81895380e-01\n",
      "   9.96677575e-01]\n",
      " [-4.73009481e-01 -1.89278522e-02  2.87857460e-01  4.91589180e-03\n",
      "   5.10150385e-01]\n",
      " [ 4.92392476e-01  3.52546539e-01 -8.87759115e-01 -3.12552133e-01\n",
      "   6.93946798e-01]\n",
      " [-2.52144503e-01 -3.16288416e-01 -1.13999395e+00  1.83989464e+00\n",
      "  -5.16620056e-02]\n",
      " [ 7.28476420e-02  1.75642462e-01 -2.60247413e-01  6.24449040e-04\n",
      "   1.94682035e-01]\n",
      " [-3.63856036e-02 -2.61452986e-01  7.19822251e-01 -3.06140684e-01\n",
      "   2.28206205e-01]\n",
      " [-3.70570546e-01 -5.11967706e-01  7.77064881e-01 -3.16825062e-01\n",
      "   2.18860318e-01]\n",
      " [-1.05443510e+00  7.02385778e-01  1.20915125e+00 -8.06457456e-01\n",
      "  -5.93078428e-01]\n",
      " [ 4.25196204e-01 -2.39566247e-01  1.35578764e+00 -3.38731319e-01\n",
      "  -5.61558724e-01]\n",
      " [ 6.13634612e-01 -5.65440420e-01  7.09487338e-01 -8.96167656e-01\n",
      "   4.03390422e-01]\n",
      " [-8.41055655e-02 -4.29156015e-01  1.26017405e-01 -3.42082088e-01\n",
      "   4.31323008e-01]\n",
      " [ 8.78611060e-01 -2.52908184e-01 -9.23014487e-01  1.72125663e-01\n",
      "   4.00740858e-01]]\n"
     ]
    }
   ],
   "source": [
    "print(\"weights between input and first hidden layer:\")\n",
    "print(clf.coefs_[0])\n",
    "print(\"\\nweights between first hidden and second hidden layer:\")\n",
    "print(clf.coefs_[1])"
   ]
  },
  {
   "cell_type": "code",
   "execution_count": 129,
   "metadata": {
    "colab": {
     "autoexec": {
      "startup": false,
      "wait_interval": 0
     },
     "base_uri": "https://localhost:8080/",
     "height": 2669
    },
    "colab_type": "code",
    "executionInfo": {
     "elapsed": 1113,
     "status": "ok",
     "timestamp": 1526948302343,
     "user": {
      "displayName": "Hamamul Fauzi",
      "photoUrl": "//lh6.googleusercontent.com/-QEW1kiRsz4A/AAAAAAAAAAI/AAAAAAAABEs/eKYmF5qDH1s/s50-c-k-no/photo.jpg",
      "userId": "116230313463027811477"
     },
     "user_tz": -420
    },
    "id": "f2QAh8cn6_ej",
    "outputId": "1ce2fb2d-8313-48e5-ae02-e2106b3ef4d4"
   },
   "outputs": [
    {
     "name": "stdout",
     "output_type": "stream",
     "text": [
      "0 0 [-0.61091988  1.0085307   0.83478496  0.52972265  0.39604601 -0.97042788\n",
      "  0.57262864 -0.00251157 -0.29583619  0.15356814  0.19018069 -0.79286475\n",
      " -0.83539725  0.24903798  0.36622092 -0.37598083  1.22111737 -0.08068236\n",
      " -0.25573954  0.610619    0.54081893  0.37302313  0.02883578  2.44619799\n",
      " -0.09361575], \n",
      "0 1 [ 0.07341733  0.16093781 -0.95486159 -0.92810738 -0.35858113  0.8580633\n",
      " -0.90481541  0.35062269  1.11204779 -0.73468462 -1.2243386  -0.52355627\n",
      "  0.1963804  -0.5260468  -0.58582303  0.43129316 -0.16958826  0.69036916\n",
      "  1.13899902 -0.822473   -0.72022701  1.02750967  0.15115829  0.77588798\n",
      "  0.85444823], \n",
      "0 2 [-1.04717922 -2.46788449  2.469761   -0.97628257  0.98619994 -0.64786606\n",
      " -0.53047779 -1.36844749  0.66894982  0.90251654 -0.81334802 -1.32851247\n",
      " -0.4359261   0.73799915 -0.31439358  1.56935178  1.73454713 -0.61801311\n",
      "  1.79059694  0.80362139  0.52530611  2.43130548  1.3519182   2.47539803\n",
      "  1.52696448], \n",
      "0 3 [-0.04357084 -1.73546641 -0.31605508 -1.40788163 -0.4753754   0.88496978\n",
      " -1.09582234 -0.71846545  1.83697957 -0.27492094 -1.12151703  0.53784269\n",
      "  0.25688129 -0.62055256  0.59954767  0.70157512  1.82523897  0.42359631\n",
      "  1.34755658 -0.28459496 -0.06553573  1.92035074  1.06817351 -1.30890568\n",
      "  1.09987654], \n",
      "0 4 [-1.48675544 -0.36796807  1.31103881  0.78183796  1.65634333 -0.408584\n",
      "  1.64168609  0.83118879 -0.61157292  3.68673036  0.25361994 -1.94146804\n",
      " -0.11573688  2.68551468 -0.71771351 -0.59067742 -0.78219298 -3.87890865\n",
      " -0.29815595  2.03648971 -1.59673306  0.54786506 -1.94452108 -2.43713986\n",
      " -0.8960744 ], \n",
      "0 5 [ 1.13191454 -0.88555727 -2.13485787 -0.97916207 -1.36361066  1.11108605\n",
      " -0.4315958   0.09629829  0.4564537   0.32241339 -0.01193309 -0.71017302\n",
      "  1.69045219  0.4048427  -2.58789677 -0.76461607 -0.86701168  0.07905871\n",
      " -0.49408336 -1.72962504  0.14879198 -1.00702887 -0.82926108 -0.24742431\n",
      " -0.50328775], \n",
      "0 6 [-0.05403809  2.62329395 -1.05154014 -0.45178475  0.39148172  1.08613102\n",
      " -0.66473679  3.31927505  0.63740022  0.41850502 -0.56564436 -0.5446984\n",
      "  1.44511559  0.2537701  -3.48403205  1.03437319 -0.55661951 -0.42360009\n",
      "  0.06163808 -1.4865461  -1.19582066  0.97254565  0.19075622  0.86101838\n",
      "  0.12671159], \n",
      "0 7 [ 0.71483836 -1.12806112 -0.25139799  0.29829036 -0.63327657  1.10761049\n",
      "  0.50727821  0.4999117  -0.2594028   0.37662969  0.41799062  0.43139591\n",
      "  1.38170996 -0.79793331 -2.12230672 -0.72149886 -1.30242553 -0.39460817\n",
      " -0.34590594 -0.8129236  -0.20963496  0.0246475  -0.87977904 -2.60897802\n",
      " -0.81436353], \n",
      "0 8 [-0.61213761  1.12528396  0.19719688 -0.18855424  0.44703776 -0.24912245\n",
      " -0.18142028  1.77114478  0.77310665  0.83185186 -0.23617266 -0.33442624\n",
      " -0.37757511  0.82893921  0.22021675  0.40289448  0.26262655 -0.17279524\n",
      "  0.59729315  0.78905656  0.00392607  1.46266471 -0.25306354  0.9970873\n",
      "  0.36219383], \n",
      "0 9 [-4.26917667e-01  2.03904520e+00  9.04304112e-01  9.99596002e-02\n",
      " -2.95832317e-01 -1.63647364e-01 -6.81784902e-01  7.82038482e-01\n",
      " -2.70179109e-02 -5.24926238e-01 -5.83739551e-01  3.83674084e-01\n",
      " -6.46370882e-02 -3.07077109e-01  3.54456347e-01  9.25602830e-01\n",
      " -5.82079841e-01 -3.01084134e-03  4.29390688e-01 -6.24604015e-01\n",
      " -7.27799504e-01 -3.35265567e-01  1.31162228e+00  3.16697407e+00\n",
      "  6.04491385e-01], \n",
      "0 10 [-0.19797567  1.07185515  1.20230804  0.07044183  0.85634571 -0.1694394\n",
      "  0.29392074  1.04928396 -0.15604805  0.32278899 -0.61656136  0.56387465\n",
      " -1.05965787 -0.1918772  -0.17304398  0.62359256  2.05850344 -0.2570576\n",
      "  0.86946965 -0.47335166  0.82719486  2.17464255 -0.12044547  1.89508819\n",
      "  0.5256545 ], \n",
      "\n",
      "1 0 [-0.56516087  0.52708797  1.51958707 -1.22574487 -1.53671088  1.84351036\n",
      "  1.75251407 -1.46999805 -1.08676535 -1.08816326 -2.66317922], \n",
      "1 1 [ 0.01258315  1.26128212 -1.52160391  2.17196607 -0.81530371 -0.8727982\n",
      " -0.81019573 -1.55222536  0.69426454 -0.49028018  0.48591299], \n",
      "1 2 [ 1.4019473   0.39178761  1.64016315  0.92421756 -0.33251688 -1.5704737\n",
      " -1.75896008 -0.08123219 -1.82759598  3.06081579  0.53862066], \n",
      "1 3 [ 1.03935933 -1.66501692 -0.01969135 -1.91658075 -1.46128178 -1.8645728\n",
      "  2.88455022  0.67008916  0.71609344 -0.41692239  3.22375691], \n",
      "1 4 [-1.08732812 -0.86244547 -1.69946344  0.36537187  4.01271868  1.8156306\n",
      " -2.12627102  1.75420475  1.03526243 -1.3096527  -0.42553928], \n",
      "\n"
     ]
    }
   ],
   "source": [
    "for i in range(len(clf.coefs_)):\n",
    "    number_neurons_in_layer = clf.coefs_[i].shape[1]\n",
    "    for j in range(number_neurons_in_layer):\n",
    "        weights = clf.coefs_[i][:,j]\n",
    "        print(i, j, weights, end=\", \")\n",
    "        print()\n",
    "    print()"
   ]
  },
  {
   "cell_type": "code",
   "execution_count": 151,
   "metadata": {
    "colab": {
     "autoexec": {
      "startup": false,
      "wait_interval": 0
     },
     "base_uri": "https://localhost:8080/",
     "height": 401
    },
    "colab_type": "code",
    "executionInfo": {
     "elapsed": 630,
     "status": "error",
     "timestamp": 1526948304495,
     "user": {
      "displayName": "Hamamul Fauzi",
      "photoUrl": "//lh6.googleusercontent.com/-QEW1kiRsz4A/AAAAAAAAAAI/AAAAAAAABEs/eKYmF5qDH1s/s50-c-k-no/photo.jpg",
      "userId": "116230313463027811477"
     },
     "user_tz": -420
    },
    "id": "-NMJepc-7Bzs",
    "outputId": "75312fa6-1a12-4202-b6fa-f58751eb4b11"
   },
   "outputs": [
    {
     "name": "stdout",
     "output_type": "stream",
     "text": [
      "Bias values for first hidden layer:\n",
      "[-0.24865614  0.27069392 -0.70025975  0.06082362 -0.29672011  0.45554819\n",
      "  0.44376598 -0.0358851  -0.23821149  0.66937483 -0.19631132  0.95871208\n",
      "  0.22866914 -0.16742269  0.12845984 -0.1476785  -0.47180107  0.2363308\n",
      " -0.42107161  0.38511762 -0.00429839  0.01998883  0.17935224 -0.2423856\n",
      "  0.27686125  0.3444958  -0.39005136  0.17330276  0.24404411  0.52363151\n",
      "  0.12275892  0.14385723  0.7563432   0.60046373 -0.06610719  0.17842002\n",
      "  0.30889405 -0.16407418 -0.20688294  0.5403236   0.29138227 -0.28661828\n",
      " -0.33699162 -0.04290857 -0.46521732 -0.19406297 -0.48024479 -0.48117666\n",
      "  0.68102347 -0.85752112 -0.31972251  0.10243913 -0.24088273 -0.22743256\n",
      "  0.04165944 -0.1471594  -0.32111798 -0.05572142 -0.73512556 -0.48273143\n",
      " -0.27328143 -0.31805183 -0.07866097 -0.06157759 -0.14440191 -0.25608543\n",
      "  0.19877155 -0.13424619 -0.09294494 -0.39484311 -0.26392878  0.15988309\n",
      "  0.32038202 -0.24530676  0.1605136   0.46559523  0.05944662  0.17793315]\n",
      "\n",
      "Bias values for second hidden layer:\n",
      "[ 1.05284597 -0.93285173  1.52926962 -1.6014598  -0.17303515]\n"
     ]
    }
   ],
   "source": [
    "print(\"Bias values for first hidden layer:\")\n",
    "print(clf.intercepts_[0])\n",
    "print(\"\\nBias values for second hidden layer:\")\n",
    "print(clf.intercepts_[1])"
   ]
  },
  {
   "cell_type": "code",
   "execution_count": 152,
   "metadata": {
    "colab": {
     "autoexec": {
      "startup": false,
      "wait_interval": 0
     },
     "base_uri": "https://localhost:8080/",
     "height": 221
    },
    "colab_type": "code",
    "executionInfo": {
     "elapsed": 898,
     "status": "ok",
     "timestamp": 1526948306957,
     "user": {
      "displayName": "Hamamul Fauzi",
      "photoUrl": "//lh6.googleusercontent.com/-QEW1kiRsz4A/AAAAAAAAAAI/AAAAAAAABEs/eKYmF5qDH1s/s50-c-k-no/photo.jpg",
      "userId": "116230313463027811477"
     },
     "user_tz": -420
    },
    "id": "nqaQx54b7LCa",
    "outputId": "534c60f4-8d64-46e8-999a-227f34e7807f"
   },
   "outputs": [
    {
     "data": {
      "text/plain": [
       "0.37254901960784315"
      ]
     },
     "execution_count": 152,
     "metadata": {},
     "output_type": "execute_result"
    }
   ],
   "source": []
  },
  {
   "cell_type": "code",
   "execution_count": 132,
   "metadata": {
    "colab": {
     "autoexec": {
      "startup": false,
      "wait_interval": 0
     },
     "base_uri": "https://localhost:8080/",
     "height": 1751
    },
    "colab_type": "code",
    "executionInfo": {
     "elapsed": 859,
     "status": "ok",
     "timestamp": 1526948309927,
     "user": {
      "displayName": "Hamamul Fauzi",
      "photoUrl": "//lh6.googleusercontent.com/-QEW1kiRsz4A/AAAAAAAAAAI/AAAAAAAABEs/eKYmF5qDH1s/s50-c-k-no/photo.jpg",
      "userId": "116230313463027811477"
     },
     "user_tz": -420
    },
    "id": "_FFkH9hJ7M-4",
    "outputId": "0cb23a58-66ae-424a-fd9a-82574e76f5e3"
   },
   "outputs": [
    {
     "name": "stdout",
     "output_type": "stream",
     "text": [
      "[[1.81323086e-033 3.47011301e-030 8.08164807e-023 1.36151262e-032\n",
      "  1.00000000e+000]\n",
      " [3.05612756e-019 6.15657058e-020 1.00000000e+000 1.54786722e-012\n",
      "  1.19742821e-019]\n",
      " [2.58085019e-065 4.00341663e-060 6.97225593e-044 1.99451125e-063\n",
      "  1.00000000e+000]\n",
      " [1.94190751e-027 3.40468439e-018 1.00000000e+000 1.60103811e-023\n",
      "  1.51548953e-038]\n",
      " [4.33491506e-029 5.90578612e-023 2.14156174e-016 6.79894247e-024\n",
      "  1.00000000e+000]\n",
      " [1.09013048e-014 5.06382162e-014 9.99897768e-001 2.12112717e-010\n",
      "  1.02232060e-004]\n",
      " [9.99999988e-001 1.21072853e-008 1.44246559e-015 3.99806126e-024\n",
      "  8.76778022e-018]\n",
      " [9.99934000e-001 3.19724927e-016 4.50937632e-034 4.79950143e-043\n",
      "  6.60004246e-005]\n",
      " [9.66042098e-013 5.49080009e-017 2.71143751e-009 7.40008686e-019\n",
      "  9.99999997e-001]\n",
      " [1.52329231e-039 1.09555000e-036 3.15220390e-024 1.16408009e-037\n",
      "  1.00000000e+000]\n",
      " [1.44380031e-023 5.84325685e-025 5.25511981e-002 6.27172674e-015\n",
      "  9.47448802e-001]\n",
      " [4.91208825e-001 5.65885659e-015 6.42653205e-009 5.08791169e-001\n",
      "  2.59719404e-023]\n",
      " [8.04254351e-026 2.75253990e-025 5.77188724e-020 9.57920282e-027\n",
      "  1.00000000e+000]\n",
      " [1.47209977e-029 2.86069940e-018 1.00000000e+000 1.38261666e-023\n",
      "  2.11779743e-036]\n",
      " [3.74219854e-011 4.62900320e-003 9.95370996e-001 1.14071904e-013\n",
      "  3.92475119e-010]\n",
      " [9.45368101e-026 9.99939991e-001 6.00094369e-005 7.11841508e-045\n",
      "  1.05974959e-026]\n",
      " [2.26651218e-027 8.07237774e-010 9.99999999e-001 1.44470621e-029\n",
      "  5.56667159e-032]\n",
      " [2.61491743e-038 1.80975249e-011 1.14298699e-014 1.00000000e+000\n",
      "  5.93286384e-107]\n",
      " [1.59516986e-022 1.12357004e-020 2.75651679e-014 7.96599586e-022\n",
      "  1.00000000e+000]\n",
      " [4.22974392e-053 7.97892820e-067 6.48084345e-055 1.00000000e+000\n",
      "  1.16315776e-130]\n",
      " [1.11012746e-038 2.47198785e-037 1.70556921e-033 1.20785642e-040\n",
      "  1.00000000e+000]\n",
      " [2.34863858e-001 3.69428990e-003 6.18589671e-002 3.81519206e-004\n",
      "  6.99201366e-001]\n",
      " [9.87955306e-052 5.57060899e-051 1.35250411e-030 1.10149424e-050\n",
      "  1.00000000e+000]\n",
      " [5.13054943e-071 4.92354193e-066 4.30430759e-050 1.42220151e-069\n",
      "  1.00000000e+000]\n",
      " [5.69533400e-031 8.10964270e-033 9.99999714e-001 9.66622092e-012\n",
      "  2.85779169e-007]\n",
      " [1.19614778e-047 1.03743180e-042 8.61157470e-032 1.47492207e-045\n",
      "  1.00000000e+000]\n",
      " [3.59667412e-013 1.00000000e+000 2.78238576e-025 8.44844286e-050\n",
      "  5.56978881e-028]\n",
      " [2.77468223e-037 4.33584211e-034 3.26906442e-022 7.88404441e-035\n",
      "  1.00000000e+000]\n",
      " [5.50440506e-060 2.98653239e-059 1.19767186e-036 7.07507902e-057\n",
      "  1.00000000e+000]\n",
      " [1.00000000e+000 2.26212563e-024 2.01967715e-036 9.84862221e-033\n",
      "  2.49336719e-011]\n",
      " [1.00000000e+000 4.62801057e-018 5.48789313e-031 9.83040502e-031\n",
      "  2.59365937e-011]\n",
      " [4.74615947e-033 1.10272670e-037 1.08568457e-028 4.11659207e-030\n",
      "  1.00000000e+000]\n",
      " [2.88966594e-050 6.56426255e-045 9.96819514e-034 6.18934694e-047\n",
      "  1.00000000e+000]\n",
      " [1.00000000e+000 5.18608225e-030 9.10184754e-039 1.39163468e-024\n",
      "  3.87638131e-014]\n",
      " [3.89900515e-009 4.54912484e-008 9.99999951e-001 7.64440289e-013\n",
      "  2.23146674e-015]\n",
      " [8.00220880e-006 9.99488461e-001 1.92578827e-022 1.47368507e-045\n",
      "  5.03537150e-004]\n",
      " [9.99964240e-001 5.73751339e-015 6.32216435e-027 2.63256826e-034\n",
      "  3.57598488e-005]\n",
      " [2.46912277e-030 9.37201905e-025 1.00000000e+000 9.58985385e-020\n",
      "  1.34008873e-032]\n",
      " [8.99654995e-027 2.82474901e-030 2.96555182e-007 9.99999703e-001\n",
      "  4.04496779e-062]\n",
      " [1.00000000e+000 1.27338730e-012 5.90741659e-023 6.10582656e-023\n",
      "  1.99633029e-022]\n",
      " [9.56073851e-055 1.03227023e-048 3.71775240e-038 7.17164186e-053\n",
      "  1.00000000e+000]\n",
      " [9.55689616e-055 1.48847304e-052 9.02576522e-035 7.18335199e-054\n",
      "  1.00000000e+000]\n",
      " [2.96371925e-043 4.97840171e-040 9.76970509e-025 6.39742311e-040\n",
      "  1.00000000e+000]\n",
      " [9.99999813e-001 1.87232140e-007 5.84488079e-013 1.77963110e-021\n",
      "  1.22455809e-014]\n",
      " [4.98107211e-041 2.19884679e-032 1.00000000e+000 1.88491163e-025\n",
      "  1.38643266e-048]\n",
      " [3.83157038e-045 5.17691524e-042 1.07581201e-028 1.45059029e-043\n",
      "  1.00000000e+000]\n",
      " [3.88389599e-009 5.26957076e-035 2.14589641e-035 3.96726334e-028\n",
      "  9.99999996e-001]\n",
      " [1.27967744e-070 3.01444057e-063 6.03393186e-052 1.11873766e-067\n",
      "  1.00000000e+000]\n",
      " [9.99941465e-001 6.73624416e-017 1.92032545e-036 2.67141054e-045\n",
      "  5.85346429e-005]\n",
      " [1.54125434e-014 1.29152898e-012 1.00000000e+000 2.19457948e-014\n",
      "  6.22182365e-020]\n",
      " [5.31109452e-019 5.07695671e-030 1.22902219e-031 1.00000000e+000\n",
      "  1.14191025e-063]]\n"
     ]
    }
   ],
   "source": [
    "prob_results = clf.predict_proba(X_test)\n",
    "print(prob_results)"
   ]
  },
  {
   "cell_type": "code",
   "execution_count": 14,
   "metadata": {},
   "outputs": [],
   "source": [
    "np.savetxt(\"loss.csv\", loss, delimiter=\",\")"
   ]
  },
  {
   "cell_type": "code",
   "execution_count": 85,
   "metadata": {},
   "outputs": [
    {
     "data": {
      "text/plain": [
       "array([5., 3., 5., 3., 5., 3., 1., 1., 3., 5., 3., 4., 5., 5., 3., 2., 3.,\n",
       "       4., 5., 4., 5., 5., 5., 5., 3., 5., 1., 5., 5., 1., 1., 5., 5., 1.,\n",
       "       3., 2., 1., 3., 4., 1., 5., 5., 5., 1., 3., 5., 1., 5., 1., 3., 4.])"
      ]
     },
     "execution_count": 85,
     "metadata": {},
     "output_type": "execute_result"
    }
   ],
   "source": [
    "y_test\n"
   ]
  },
  {
   "cell_type": "code",
   "execution_count": 89,
   "metadata": {},
   "outputs": [],
   "source": [
    "i=0;\n",
    "ydata = [ ]\n",
    "while i < len(y_test):\n",
    "    if(y_test[i]==1):\n",
    "        temp=[1,0,0,0,0]\n",
    "        \n",
    "    elif(y_test[i]==2):\n",
    "        temp=[0,1,0,0,0]\n",
    "        \n",
    "    elif(y_test[i]==3):\n",
    "        temp=[0,0,1,0,0]\n",
    "        \n",
    "    elif(y_test[i]==4):\n",
    "        temp=[0,0,0,1,0]\n",
    "        \n",
    "    elif(y_test[i]==5):\n",
    "        temp=[0,0,0,0,1]\n",
    "    \n",
    "    ydata.append(temp)\n",
    "    i=i+1"
   ]
  },
  {
   "cell_type": "code",
   "execution_count": 90,
   "metadata": {},
   "outputs": [
    {
     "data": {
      "text/plain": [
       "[[0, 0, 0, 0, 1],\n",
       " [0, 0, 1, 0, 0],\n",
       " [0, 0, 0, 0, 1],\n",
       " [0, 0, 1, 0, 0],\n",
       " [0, 0, 0, 0, 1],\n",
       " [0, 0, 1, 0, 0],\n",
       " [1, 0, 0, 0, 0],\n",
       " [1, 0, 0, 0, 0],\n",
       " [0, 0, 1, 0, 0],\n",
       " [0, 0, 0, 0, 1],\n",
       " [0, 0, 1, 0, 0],\n",
       " [0, 0, 0, 1, 0],\n",
       " [0, 0, 0, 0, 1],\n",
       " [0, 0, 0, 0, 1],\n",
       " [0, 0, 1, 0, 0],\n",
       " [0, 1, 0, 0, 0],\n",
       " [0, 0, 1, 0, 0],\n",
       " [0, 0, 0, 1, 0],\n",
       " [0, 0, 0, 0, 1],\n",
       " [0, 0, 0, 1, 0],\n",
       " [0, 0, 0, 0, 1],\n",
       " [0, 0, 0, 0, 1],\n",
       " [0, 0, 0, 0, 1],\n",
       " [0, 0, 0, 0, 1],\n",
       " [0, 0, 1, 0, 0],\n",
       " [0, 0, 0, 0, 1],\n",
       " [1, 0, 0, 0, 0],\n",
       " [0, 0, 0, 0, 1],\n",
       " [0, 0, 0, 0, 1],\n",
       " [1, 0, 0, 0, 0],\n",
       " [1, 0, 0, 0, 0],\n",
       " [0, 0, 0, 0, 1],\n",
       " [0, 0, 0, 0, 1],\n",
       " [1, 0, 0, 0, 0],\n",
       " [0, 0, 1, 0, 0],\n",
       " [0, 1, 0, 0, 0],\n",
       " [1, 0, 0, 0, 0],\n",
       " [0, 0, 1, 0, 0],\n",
       " [0, 0, 0, 1, 0],\n",
       " [1, 0, 0, 0, 0],\n",
       " [0, 0, 0, 0, 1],\n",
       " [0, 0, 0, 0, 1],\n",
       " [0, 0, 0, 0, 1],\n",
       " [1, 0, 0, 0, 0],\n",
       " [0, 0, 1, 0, 0],\n",
       " [0, 0, 0, 0, 1],\n",
       " [1, 0, 0, 0, 0],\n",
       " [0, 0, 0, 0, 1],\n",
       " [1, 0, 0, 0, 0],\n",
       " [0, 0, 1, 0, 0],\n",
       " [0, 0, 0, 1, 0]]"
      ]
     },
     "execution_count": 90,
     "metadata": {},
     "output_type": "execute_result"
    }
   ],
   "source": [
    "ydata\n"
   ]
  },
  {
   "cell_type": "code",
   "execution_count": 91,
   "metadata": {},
   "outputs": [],
   "source": [
    "np.savetxt(\"loss22lbfgs.csv\", loss, delimiter=\",\")"
   ]
  },
  {
   "cell_type": "code",
   "execution_count": 72,
   "metadata": {
    "colab": {
     "autoexec": {
      "startup": false,
      "wait_interval": 0
     },
     "base_uri": "https://localhost:8080/",
     "height": 2329
    },
    "colab_type": "code",
    "executionInfo": {
     "elapsed": 703,
     "status": "ok",
     "timestamp": 1524456645345,
     "user": {
      "displayName": "Hamamul Fauzi",
      "photoUrl": "//lh6.googleusercontent.com/-QEW1kiRsz4A/AAAAAAAAAAI/AAAAAAAABEs/eKYmF5qDH1s/s50-c-k-no/photo.jpg",
      "userId": "116230313463027811477"
     },
     "user_tz": -420
    },
    "id": "hWoB7cDLxz5S",
    "outputId": "8dca91b8-a147-45fb-8954-889eab586ec9"
   },
   "outputs": [
    {
     "name": "stdout",
     "output_type": "stream",
     "text": [
      "data uji sebelum scaling :\n",
      "[[6.88623000e-01 2.40389542e+02 3.18325000e-01 8.67205000e-01]\n",
      " [2.05517200e+00 3.75799042e+02 2.21690000e-01 7.30394000e-01]\n",
      " [2.44759600e+00 3.22056091e+02 2.57440000e-01 8.08634000e-01]\n",
      " [5.69095000e-01 4.09467926e+02 3.23682000e-01 8.53145000e-01]\n",
      " [7.47301000e-01 9.73269470e+02 2.60012000e-01 8.79558000e-01]\n",
      " [6.04963000e-01 4.43180634e+02 2.72850000e-01 7.67063000e-01]\n",
      " [9.36283000e-01 2.99587799e+02 3.22069000e-01 9.59963000e-01]\n",
      " [9.87860000e-01 2.74148376e+02 3.27303000e-01 9.62739000e-01]\n",
      " [1.00163100e+00 3.00757233e+02 3.26969000e-01 9.73937000e-01]\n",
      " [8.68613000e-01 3.44486908e+02 2.97397000e-01 8.03110000e-01]\n",
      " [4.83755000e-01 4.70305145e+02 3.27178000e-01 8.10634000e-01]\n",
      " [9.69589000e-01 2.56842285e+02 3.25855000e-01 9.64645000e-01]\n",
      " [1.75603900e+00 2.90921173e+02 2.90110000e-01 8.55390000e-01]\n",
      " [8.36265000e-01 2.90396759e+02 3.25958000e-01 9.59806000e-01]\n",
      " [2.97332000e+00 3.31332642e+02 2.41191000e-01 7.86225000e-01]\n",
      " [8.35443000e-01 4.60888977e+02 3.02567000e-01 8.69913000e-01]\n",
      " [2.43243000e-01 8.37626953e+02 3.04685000e-01 7.91226000e-01]\n",
      " [9.18534000e-01 2.19370605e+02 3.22266000e-01 9.71566000e-01]\n",
      " [5.78050000e-01 4.80039032e+02 3.27371000e-01 8.59189000e-01]\n",
      " [1.46320900e+00 2.22504288e+02 3.00245000e-01 8.86444000e-01]\n",
      " [1.00703500e+00 4.12668671e+02 2.75885000e-01 7.68220000e-01]\n",
      " [3.19894000e-01 8.20732544e+02 2.95594000e-01 7.95489000e-01]\n",
      " [9.20477000e-01 3.14596588e+02 3.27141000e-01 9.63542000e-01]\n",
      " [3.46681000e-01 6.53877441e+02 3.14887000e-01 9.32805000e-01]\n",
      " [9.12387000e-01 2.33066849e+02 3.18785000e-01 9.51555000e-01]\n",
      " [1.31068000e+00 3.03443390e+02 3.23107000e-01 9.74830000e-01]\n",
      " [1.29994600e+00 4.84311188e+02 2.45882000e-01 7.48368000e-01]\n",
      " [9.83229000e-01 2.05282501e+02 3.25831000e-01 9.75983000e-01]\n",
      " [8.50141000e-01 2.73661011e+02 3.12539000e-01 9.56604000e-01]\n",
      " [1.56229600e+00 3.98511627e+02 2.64845000e-01 8.22900000e-01]\n",
      " [5.97234000e-01 4.57146118e+02 2.96620000e-01 8.12868000e-01]\n",
      " [4.32087000e-01 4.42165344e+02 3.21313000e-01 7.91310000e-01]\n",
      " [2.51420500e+00 3.73516144e+02 2.74679000e-01 8.25400000e-01]\n",
      " [5.51519000e-01 4.28925018e+02 3.27398000e-01 8.31010000e-01]\n",
      " [9.68952000e-01 2.50787766e+02 3.04229000e-01 9.45871000e-01]\n",
      " [1.55433000e-01 1.59076038e+03 3.12669000e-01 8.45476000e-01]\n",
      " [1.13521500e+00 3.30583557e+02 2.82091000e-01 7.82818000e-01]\n",
      " [1.42371200e+00 5.25832275e+02 2.53547000e-01 7.82831000e-01]\n",
      " [6.74440000e-01 6.35315002e+02 3.15128000e-01 9.11311000e-01]\n",
      " [9.63753000e-01 2.35777710e+02 3.17674000e-01 9.31993000e-01]\n",
      " [8.00853000e-01 3.08117218e+02 3.26990000e-01 9.58793000e-01]\n",
      " [2.17357000e-01 1.31926001e+03 3.03087000e-01 7.78453000e-01]\n",
      " [1.01760000e+00 2.79206268e+02 3.25060000e-01 9.68773000e-01]\n",
      " [9.65517000e-01 2.42238022e+02 3.25508000e-01 9.61734000e-01]\n",
      " [1.27114700e+00 1.59888672e+02 3.15875000e-01 9.52973000e-01]\n",
      " [7.44318000e-01 2.70726898e+02 3.21244000e-01 9.00812000e-01]\n",
      " [1.00340100e+00 2.33915665e+02 3.18997000e-01 9.51490000e-01]\n",
      " [1.14555800e+00 2.95940063e+02 3.24889000e-01 9.60268000e-01]\n",
      " [5.43933000e-01 3.88463837e+02 3.29531000e-01 8.57052000e-01]\n",
      " [9.97963000e-01 2.23813278e+02 3.23685000e-01 9.75827000e-01]\n",
      " [1.01133800e+00 3.35649506e+02 3.27321000e-01 9.70550000e-01]\n",
      " [3.76422000e-01 4.50418671e+02 3.14509000e-01 8.15329000e-01]\n",
      " [1.07178700e+00 3.34472900e+02 2.55894000e-01 7.08232000e-01]\n",
      " [8.28035000e-01 4.43869598e+02 2.58104000e-01 6.54107000e-01]\n",
      " [1.09845300e+00 3.31152832e+02 3.24258000e-01 9.29114000e-01]\n",
      " [2.15339800e+00 3.13615784e+02 2.66154000e-01 8.06441000e-01]\n",
      " [9.63883000e-01 2.89111786e+02 3.29091000e-01 9.52594000e-01]\n",
      " [3.10785200e+00 3.62650787e+02 2.56130000e-01 8.10095000e-01]\n",
      " [9.81197000e-01 2.24019928e+02 3.22013000e-01 9.73454000e-01]\n",
      " [1.35556900e+00 4.35087860e+02 2.75053000e-01 8.31467000e-01]\n",
      " [3.04550900e+00 3.67868591e+02 2.44770000e-01 7.80308000e-01]\n",
      " [1.05243700e+00 7.25820007e+02 2.73755000e-01 8.71146000e-01]\n",
      " [6.07306000e-01 4.59905731e+02 3.23550000e-01 8.54873000e-01]\n",
      " [9.02941000e-01 5.40227966e+02 3.19685000e-01 9.22232000e-01]\n",
      " [2.06488500e+00 4.11183746e+02 2.63279000e-01 8.15429000e-01]\n",
      " [9.48161000e-01 2.78239990e+02 3.28494000e-01 9.61504000e-01]\n",
      " [1.07522900e+00 3.37040741e+02 3.25523000e-01 9.54187000e-01]\n",
      " [1.16691100e+00 4.81051636e+02 2.42138000e-01 7.65215000e-01]\n",
      " [4.84810000e-01 4.67324615e+02 3.27254000e-01 8.68441000e-01]\n",
      " [5.94937000e-01 7.35181641e+02 3.15173000e-01 8.77276000e-01]\n",
      " [1.09475500e+00 4.13665894e+02 3.10656000e-01 7.44731000e-01]\n",
      " [9.69283000e-01 1.90995529e+02 3.26469000e-01 9.72862000e-01]\n",
      " [1.59157500e+00 3.27084381e+02 2.68333000e-01 8.41546000e-01]\n",
      " [8.76623000e-01 3.69049591e+02 3.24368000e-01 9.48291000e-01]\n",
      " [9.84424000e-01 2.84565094e+02 3.26100000e-01 9.65866000e-01]\n",
      " [1.18382900e+00 4.06449707e+02 2.80247000e-01 7.90041000e-01]\n",
      " [1.04195800e+00 4.11989685e+02 2.95574000e-01 9.10293000e-01]\n",
      " [2.83090000e-01 8.79654663e+02 2.87797000e-01 8.52035000e-01]\n",
      " [1.00000000e+00 3.00403625e+02 3.26406000e-01 9.66372000e-01]\n",
      " [9.56179000e-01 4.81358154e+02 2.87827000e-01 7.17750000e-01]\n",
      " [1.87395000e+00 3.28263489e+02 2.70890000e-01 8.28853000e-01]\n",
      " [5.02928000e-01 5.40908875e+02 3.29328000e-01 8.80437000e-01]\n",
      " [1.52673300e+00 3.69436157e+02 2.85074000e-01 7.74109000e-01]\n",
      " [5.01522000e-01 6.30651855e+02 3.03311000e-01 8.39113000e-01]\n",
      " [1.30343100e+00 5.11498016e+02 2.52406000e-01 8.09690000e-01]\n",
      " [1.01151100e+00 1.94335556e+02 3.21784000e-01 9.36918000e-01]\n",
      " [5.42298000e-01 4.73233734e+02 3.15388000e-01 8.37229000e-01]\n",
      " [8.67508000e-01 4.23807465e+02 2.76264000e-01 8.19063000e-01]\n",
      " [8.62816000e-01 1.42204605e+02 3.25102000e-01 9.80094000e-01]\n",
      " [9.66387000e-01 2.24929352e+02 3.24059000e-01 9.83784000e-01]\n",
      " [6.91729000e-01 4.78361023e+02 3.20871000e-01 9.25376000e-01]\n",
      " [6.79677000e-01 4.89694916e+02 2.46656000e-01 8.26411000e-01]\n",
      " [8.95105000e-01 4.22122620e+02 3.22733000e-01 8.95124000e-01]\n",
      " [2.43920400e+00 4.49707581e+02 2.28109000e-01 7.58283000e-01]\n",
      " [9.87034000e-01 2.68998718e+02 3.27938000e-01 9.62575000e-01]\n",
      " [1.66384800e+00 3.44638031e+02 2.72937000e-01 8.37263000e-01]\n",
      " [9.24298000e-01 4.86489960e+02 2.69519000e-01 8.42501000e-01]\n",
      " [9.67021000e-01 4.00137939e+02 3.16635000e-01 9.05363000e-01]\n",
      " [9.68280000e-01 2.64129944e+02 3.28520000e-01 9.56470000e-01]\n",
      " [9.77586000e-01 2.80812714e+02 3.26137000e-01 9.62387000e-01]\n",
      " [2.32653100e+00 4.86175598e+02 2.50209000e-01 7.47404000e-01]\n",
      " [9.52655000e-01 3.88664093e+02 2.58231000e-01 7.94497000e-01]\n",
      " [1.12980800e+00 2.87741821e+02 3.23751000e-01 9.75738000e-01]\n",
      " [1.31336800e+00 3.42110504e+02 2.79186000e-01 8.46008000e-01]\n",
      " [9.84195000e-01 2.79860321e+02 3.26804000e-01 9.65210000e-01]\n",
      " [9.63250000e-01 2.54926514e+02 3.26410000e-01 9.59402000e-01]\n",
      " [9.67391000e-01 3.35458649e+02 3.26276000e-01 9.62560000e-01]\n",
      " [8.13293000e-01 4.09713806e+02 2.65570000e-01 8.15657000e-01]\n",
      " [1.32804200e+00 2.99014313e+02 2.81853000e-01 9.66439000e-01]\n",
      " [1.40042400e+00 3.12048431e+02 2.67715000e-01 8.11480000e-01]\n",
      " [6.83213000e-01 2.63978943e+02 3.28453000e-01 9.26394000e-01]\n",
      " [6.25325000e-01 5.77171570e+02 3.20448000e-01 8.94781000e-01]\n",
      " [6.27119000e-01 7.70766052e+02 2.87638000e-01 8.88235000e-01]\n",
      " [1.06813200e+00 2.74074982e+02 3.27014000e-01 9.77023000e-01]\n",
      " [1.04366800e+00 2.85177185e+02 3.21219000e-01 9.65235000e-01]\n",
      " [1.10132200e+00 2.68489197e+02 3.18309000e-01 9.29726000e-01]\n",
      " [3.70672000e-01 9.30855286e+02 3.02856000e-01 8.58993000e-01]\n",
      " [8.64222000e-01 6.93336365e+02 3.08765000e-01 8.88753000e-01]\n",
      " [1.48506000e+00 3.21116669e+02 2.63526000e-01 8.12676000e-01]\n",
      " [8.56155000e-01 4.41822876e+02 3.10785000e-01 8.48202000e-01]\n",
      " [3.80195000e-01 6.07079163e+02 3.29047000e-01 8.90259000e-01]\n",
      " [1.62848300e+00 1.45427307e+02 3.17268000e-01 9.46751000e-01]\n",
      " [2.09730700e+00 3.85319977e+02 2.62312000e-01 7.90565000e-01]\n",
      " [5.42585000e-01 4.47340485e+02 3.25697000e-01 8.20002000e-01]\n",
      " [9.84496000e-01 3.06612122e+02 3.27266000e-01 9.69460000e-01]\n",
      " [2.99598000e-01 1.13066003e+03 3.23365000e-01 8.96637000e-01]\n",
      " [4.69194000e-01 4.33209137e+02 3.19152000e-01 8.13084000e-01]\n",
      " [2.69434000e-01 1.13995606e+03 3.24231000e-01 8.68031000e-01]\n",
      " [2.35097800e+00 3.55546356e+02 2.73269000e-01 8.15114000e-01]\n",
      " [1.46907200e+00 3.65639160e+02 2.84168000e-01 8.34321000e-01]\n",
      " [1.87455200e+00 3.43112488e+02 2.72751000e-01 7.82707000e-01]\n",
      " [5.62900000e-01 4.91800354e+02 3.27665000e-01 8.80273000e-01]\n",
      " [4.96685000e-01 4.33772919e+02 3.28555000e-01 8.17102000e-01]\n",
      " [9.50161000e-01 2.01837448e+02 3.17126000e-01 9.74464000e-01]\n",
      " [5.41314000e-01 4.98152679e+02 2.69606000e-01 6.73924000e-01]]\n"
     ]
    }
   ],
   "source": [
    "#data uji awal\n",
    "print('data uji sebelum scaling :')\n",
    "print(X_train_awal)"
   ]
  },
  {
   "cell_type": "code",
   "execution_count": 73,
   "metadata": {
    "colab": {
     "autoexec": {
      "startup": false,
      "wait_interval": 0
     },
     "base_uri": "https://localhost:8080/",
     "height": 2329
    },
    "colab_type": "code",
    "executionInfo": {
     "elapsed": 709,
     "status": "ok",
     "timestamp": 1524456646687,
     "user": {
      "displayName": "Hamamul Fauzi",
      "photoUrl": "//lh6.googleusercontent.com/-QEW1kiRsz4A/AAAAAAAAAAI/AAAAAAAABEs/eKYmF5qDH1s/s50-c-k-no/photo.jpg",
      "userId": "116230313463027811477"
     },
     "user_tz": -420
    },
    "id": "p6bsAaImx9a3",
    "outputId": "b44b279e-6252-44ad-80cd-abffe6f63f2b"
   },
   "outputs": [
    {
     "name": "stdout",
     "output_type": "stream",
     "text": [
      "data uji setelah scaling :\n",
      "[[-0.63148658 -0.81172301  0.59367776 -0.08538316]\n",
      " [ 1.77135814 -0.19613802 -2.82132665 -1.82713399]\n",
      " [ 2.46136921 -0.44045879 -1.55794995 -0.83105484]\n",
      " [-0.8416563  -0.04307594  0.7829899  -0.26438204]\n",
      " [-0.52831126  2.52002169 -1.4670575   0.07188379]\n",
      " [-0.7785885   0.11018537 -1.01337274 -1.36029827]\n",
      " [-0.19601846 -0.54260187  0.72598776  1.09552571]\n",
      " [-0.10532905 -0.65825201  0.91095317  1.13086717]\n",
      " [-0.08111508 -0.53728551  0.89914988  1.27342973]\n",
      " [-0.31500468 -0.33848608 -0.14590119 -0.90138128]\n",
      " [-0.99171222  0.23349608  0.90653577 -0.80559269]\n",
      " [-0.1374555  -0.73692721  0.859782    1.1551326 ]\n",
      " [ 1.24538348 -0.58200121 -0.40341801 -0.23580079]\n",
      " [-0.37188315 -0.58438525  0.86342194  1.09352694]\n",
      " [ 3.38576573 -0.39828667 -2.13217674 -1.11634545]\n",
      " [-0.3733285   0.19068925  0.03680251 -0.05090741]\n",
      " [-1.41461179  1.90337738  0.11165096 -1.05267735]\n",
      " [-0.22722706 -0.90727718  0.73294958  1.24324435]\n",
      " [-0.82591045  0.2777473   0.91335624 -0.18743544]\n",
      " [ 0.73049157 -0.89303114 -0.04525513  0.15954996]\n",
      " [-0.07161306 -0.02852503 -0.90611825 -1.34556842]\n",
      " [-1.27983401  1.82657373 -0.20961779 -0.99840479]\n",
      " [-0.22381063 -0.47437043  0.90522822  1.14109022]\n",
      " [-1.23273361  1.06803391  0.47218156  0.74977523]\n",
      " [-0.23803552 -0.84501269  0.6099338   0.98848285]\n",
      " [ 0.46229519 -0.52507397  0.76266985  1.28479858]\n",
      " [ 0.44342127  0.29716894 -1.96640052 -1.59830568]\n",
      " [-0.11347188 -0.97132309  0.85893386  1.2994775 ]\n",
      " [-0.34748456 -0.66046762  0.3892051   1.05276204]\n",
      " [ 0.90471926 -0.09288436 -1.29626311 -0.64943335]\n",
      " [-0.79217864  0.17367384 -0.17335976 -0.77715147]\n",
      " [-1.08256164  0.10556976  0.69927131 -1.05160794]\n",
      " [ 2.57848985 -0.2065163  -0.94873733 -0.61760566]\n",
      " [-0.87256072  0.04537793  0.9143104  -0.54618435]\n",
      " [-0.13857556 -0.76445165  0.09553628  0.91611943]\n",
      " [-1.56901079  5.32719648  0.3937992  -0.36201664]\n",
      " [ 0.15376974 -0.40169209 -0.68680312 -1.15972022]\n",
      " [ 0.6610428   0.48592791 -1.69552548 -1.15955471]\n",
      " [-0.65642498  0.98364723  0.48069831  0.47613355]\n",
      " [-0.14771712 -0.83268885  0.57067194  0.7394376 ]\n",
      " [-0.43414915 -0.50382629  0.899892    1.08063036]\n",
      " [-1.46012794  4.09292894  0.0551789  -1.21529135]\n",
      " [-0.0530363  -0.63525833  0.83168733  1.20768647]\n",
      " [-0.14461542 -0.80331963  0.84751929  1.11807244]\n",
      " [ 0.39278311 -1.17768793  0.5070967   1.00653551]\n",
      " [-0.53355636 -0.67380638  0.69683291  0.34247001]\n",
      " [-0.07800283 -0.84115389  0.61742571  0.98765533]\n",
      " [ 0.17195615 -0.55918484  0.82564432  1.09940869]\n",
      " [-0.88589941 -0.1385626   0.98968893 -0.21464174]\n",
      " [-0.08756464 -0.88708034  0.78309592  1.29749146]\n",
      " [-0.06404697 -0.37866178  0.91158928  1.23030958]\n",
      " [-1.1804391   0.1430902   0.45882334 -0.7458203 ]\n",
      " [ 0.04224235 -0.38401075 -1.61258436 -2.10928003]\n",
      " [-0.38635421  0.11331747 -1.53448471 -2.79834936]\n",
      " [ 0.08912999 -0.39910411  0.80334528  0.70278484]\n",
      " [ 1.94407191 -0.47882926 -1.25000408 -0.85897408]\n",
      " [-0.14748854 -0.59022686  0.97413968  1.00171044]\n",
      " [ 3.62231744 -0.25591129 -1.60424431 -0.81245474]\n",
      " [-0.1170448  -0.88614089  0.72400876  1.26728062]\n",
      " [ 0.54122488  0.07339482 -0.93552047 -0.54036624]\n",
      " [ 3.51269785 -0.23219063 -2.00569772 -1.19167521]\n",
      " [ 0.00821866  1.39509194 -0.98139076 -0.03521   ]\n",
      " [-0.77446873  0.18621932  0.77832512 -0.24238275]\n",
      " [-0.25464471  0.55137215  0.64173908  0.6151696 ]\n",
      " [ 1.78843681 -0.03527565 -1.35160431 -0.74454719]\n",
      " [-0.17513301 -0.63965112  0.95304217  1.1151443 ]\n",
      " [ 0.04829453 -0.37233709  0.84804938  1.02199104]\n",
      " [ 0.20950178  0.28235069 -2.09871051 -1.38382529]\n",
      " [-0.98985718  0.2199463   0.90922155 -0.06964755]\n",
      " [-0.79621752  1.43765085  0.48228858  0.04283148]\n",
      " [ 0.08262769 -0.02399156  0.32266137 -1.64460859]\n",
      " [-0.13799355 -1.03627308  0.88148027  1.25974382]\n",
      " [ 0.95620142 -0.41759969 -1.17299995 -0.41204976]\n",
      " [-0.30092045 -0.22682169  0.8072326   0.94692863]\n",
      " [-0.11137067 -0.61089658  0.86844011  1.17067724]\n",
      " [ 0.23924921 -0.05679706 -0.75196862 -1.06776368]\n",
      " [-0.01020689 -0.03161177 -0.21032457  0.46317332]\n",
      " [-1.3445476   2.09443951 -0.4851576  -0.27851354]\n",
      " [-0.08398292 -0.53889305  0.8792539   1.17711916]\n",
      " [-0.16103471  0.28374416 -0.48409742 -1.98810568]\n",
      " [ 1.45270998 -0.41223935 -1.08263759 -0.57364527]\n",
      " [-0.95799975  0.55446763  0.98251507  0.0830744 ]\n",
      " [ 0.84218776 -0.22506432 -0.58138626 -1.27059513]\n",
      " [-0.96047196  0.9624481   0.06309488 -0.44302446]\n",
      " [ 0.44954905  0.42076295 -1.73584752 -0.81761082]\n",
      " [-0.06374277 -1.02108899  0.71591608  0.80213814]\n",
      " [-0.88877428  0.24680974  0.4898865  -0.4670098 ]\n",
      " [-0.31694763  0.02211303 -0.89272469 -0.69828247]\n",
      " [-0.32519772 -1.25808145  0.83317158  1.35181494]\n",
      " [-0.14308568 -0.88200656  0.79631278  1.3987926 ]\n",
      " [-0.6260252   0.2701189   0.68365138  0.65519609]\n",
      " [-0.6472166   0.3216439  -1.93904797 -0.60473455]\n",
      " [-0.26842299  0.01445355  0.74945299  0.27005567]\n",
      " [ 2.4466133   0.13985752 -2.59448427 -1.47207709]\n",
      " [-0.10678143 -0.68166286  0.93339357  1.12877928]\n",
      " [ 1.08328124 -0.33779906 -1.01029823 -0.46657695]\n",
      " [-0.21709205  0.30707385 -1.13108765 -0.39989159]\n",
      " [-0.1419709  -0.08549098  0.5339545   0.40040913]\n",
      " [-0.13975716 -0.70379679  0.95396099  1.05105608]\n",
      " [-0.12339413 -0.62795527  0.86974766  1.12638583]\n",
      " [ 2.24849694  0.30564473 -1.81348776 -1.61057844]\n",
      " [-0.16723107 -0.13765222 -1.52999663 -1.01103401]\n",
      " [ 0.14426244 -0.59645486  0.78542831  1.29635839]\n",
      " [ 0.46702158 -0.34928945 -0.78946352 -0.35524371]\n",
      " [-0.11177333 -0.63228494  0.89331891  1.16232565]\n",
      " [-0.14860156 -0.74563649  0.87939526  1.08838358]\n",
      " [-0.14132031 -0.37952944  0.87465981  1.12858831]\n",
      " [-0.41227552 -0.04195814 -1.27064218 -0.74164451]\n",
      " [ 0.49282332 -0.545209   -0.69521385  1.17797214]\n",
      " [ 0.6200948  -0.4859546  -1.19483958 -0.7948222 ]\n",
      " [-0.64099914 -0.70448326  0.95159326  0.66815632]\n",
      " [-0.74278538  0.71932143  0.6687029   0.26568891]\n",
      " [-0.73963093  1.59942111 -0.49077653  0.18235131]\n",
      " [ 0.03581565 -0.65858566  0.90074014  1.31271782]\n",
      " [-0.00720014 -0.60811395  0.69594943  1.16264393]\n",
      " [ 0.09417464 -0.68397919  0.59311233  0.71057626]\n",
      " [-1.1905495   2.32720261  0.04701554 -0.18993073]\n",
      " [-0.32272551  1.24741809  0.25583493  0.188946  ]\n",
      " [ 0.76891285 -0.4447295  -1.34287552 -0.77959584]\n",
      " [-0.33690996  0.10401287  0.32722013 -0.32731174]\n",
      " [-1.17380492  0.85528431  0.97258475  0.208119  ]\n",
      " [ 1.02109788 -1.24343073  0.55632422  0.92732278]\n",
      " [ 1.8454454  -0.1528549  -1.38577732 -1.06109259]\n",
      " [-0.88826964  0.12909647  0.8541984  -0.686328  ]\n",
      " [-0.11124407 -0.5106686   0.90964562  1.21643271]\n",
      " [-1.31552108  3.23553478  0.77178737  0.28931778]\n",
      " [-1.01731527  0.06485396  0.62290329 -0.77440156]\n",
      " [-1.36855936  3.27779541  0.80239113 -0.07486729]\n",
      " [ 2.29148284 -0.28820873 -0.99856562 -0.74855748]\n",
      " [ 0.74080067 -0.24232585 -0.61340358 -0.50403176]\n",
      " [ 1.4537685  -0.34473433 -1.01687133 -1.16113337]\n",
      " [-0.85254916  0.33121543  0.92374597  0.0809865 ]\n",
      " [-0.96897701  0.06741697  0.95519786 -0.72324811]\n",
      " [-0.17161635 -0.98698464  0.55130605  1.280139  ]\n",
      " [-0.89050448  0.36009373 -1.12801314 -2.54605768]]\n"
     ]
    }
   ],
   "source": [
    "#data uji awal\n",
    "print('data uji setelah scaling :')\n",
    "print(X_train_scaling)"
   ]
  },
  {
   "cell_type": "code",
   "execution_count": 74,
   "metadata": {
    "colab": {
     "autoexec": {
      "startup": false,
      "wait_interval": 0
     },
     "base_uri": "https://localhost:8080/",
     "height": 34
    },
    "colab_type": "code",
    "executionInfo": {
     "elapsed": 715,
     "status": "ok",
     "timestamp": 1524456647826,
     "user": {
      "displayName": "Hamamul Fauzi",
      "photoUrl": "//lh6.googleusercontent.com/-QEW1kiRsz4A/AAAAAAAAAAI/AAAAAAAABEs/eKYmF5qDH1s/s50-c-k-no/photo.jpg",
      "userId": "116230313463027811477"
     },
     "user_tz": -420
    },
    "id": "NIijoDT8yD41",
    "outputId": "fec072b0-90da-4186-c1ed-1d3620c888af"
   },
   "outputs": [
    {
     "data": {
      "text/plain": [
       "'/device:GPU:0'"
      ]
     },
     "execution_count": 74,
     "metadata": {
      "tags": []
     },
     "output_type": "execute_result"
    }
   ],
   "source": [
    "import tensorflow as tf\n",
    "tf.test.gpu_device_name()"
   ]
  },
  {
   "cell_type": "code",
   "execution_count": 12,
   "metadata": {
    "colab": {
     "autoexec": {
      "startup": false,
      "wait_interval": 0
     },
     "base_uri": "https://localhost:8080/",
     "height": 292
    },
    "colab_type": "code",
    "executionInfo": {
     "elapsed": 705,
     "status": "ok",
     "timestamp": 1524456648810,
     "user": {
      "displayName": "Hamamul Fauzi",
      "photoUrl": "//lh6.googleusercontent.com/-QEW1kiRsz4A/AAAAAAAAAAI/AAAAAAAABEs/eKYmF5qDH1s/s50-c-k-no/photo.jpg",
      "userId": "116230313463027811477"
     },
     "user_tz": -420
    },
    "id": "lxUiDQ5fARnl",
    "outputId": "b1542808-ddf8-4bbd-e8a6-cc6a5ee7955e"
   },
   "outputs": [
    {
     "ename": "ModuleNotFoundError",
     "evalue": "No module named 'tensorflow'",
     "output_type": "error",
     "traceback": [
      "\u001b[1;31m---------------------------------------------------------------------------\u001b[0m",
      "\u001b[1;31mModuleNotFoundError\u001b[0m                       Traceback (most recent call last)",
      "\u001b[1;32m<ipython-input-12-161a99cea532>\u001b[0m in \u001b[0;36m<module>\u001b[1;34m()\u001b[0m\n\u001b[1;32m----> 1\u001b[1;33m \u001b[1;32mfrom\u001b[0m \u001b[0mtensorflow\u001b[0m\u001b[1;33m.\u001b[0m\u001b[0mpython\u001b[0m\u001b[1;33m.\u001b[0m\u001b[0mclient\u001b[0m \u001b[1;32mimport\u001b[0m \u001b[0mdevice_lib\u001b[0m\u001b[1;33m\u001b[0m\u001b[0m\n\u001b[0m\u001b[0;32m      2\u001b[0m \u001b[0mdevice_lib\u001b[0m\u001b[1;33m.\u001b[0m\u001b[0mlist_local_devices\u001b[0m\u001b[1;33m(\u001b[0m\u001b[1;33m)\u001b[0m\u001b[1;33m\u001b[0m\u001b[0m\n",
      "\u001b[1;31mModuleNotFoundError\u001b[0m: No module named 'tensorflow'"
     ]
    }
   ],
   "source": [
    "from tensorflow.python.client import device_lib\n",
    "device_lib.list_local_devices()"
   ]
  },
  {
   "cell_type": "code",
   "execution_count": 11,
   "metadata": {
    "colab": {
     "autoexec": {
      "startup": false,
      "wait_interval": 0
     },
     "base_uri": "https://localhost:8080/",
     "height": 748
    },
    "colab_type": "code",
    "executionInfo": {
     "elapsed": 1844,
     "status": "ok",
     "timestamp": 1524456651117,
     "user": {
      "displayName": "Hamamul Fauzi",
      "photoUrl": "//lh6.googleusercontent.com/-QEW1kiRsz4A/AAAAAAAAAAI/AAAAAAAABEs/eKYmF5qDH1s/s50-c-k-no/photo.jpg",
      "userId": "116230313463027811477"
     },
     "user_tz": -420
    },
    "id": "jzmoaURAAciL",
    "outputId": "74428876-700a-4afe-d98b-4259d046d7e8"
   },
   "outputs": [
    {
     "name": "stderr",
     "output_type": "stream",
     "text": [
      "'cat' is not recognized as an internal or external command,\n",
      "operable program or batch file.\n"
     ]
    }
   ],
   "source": [
    "!cat /proc/meminfo"
   ]
  },
  {
   "cell_type": "code",
   "execution_count": 77,
   "metadata": {
    "colab": {
     "autoexec": {
      "startup": false,
      "wait_interval": 0
     },
     "base_uri": "https://localhost:8080/",
     "height": 955
    },
    "colab_type": "code",
    "executionInfo": {
     "elapsed": 1788,
     "status": "ok",
     "timestamp": 1524456653108,
     "user": {
      "displayName": "Hamamul Fauzi",
      "photoUrl": "//lh6.googleusercontent.com/-QEW1kiRsz4A/AAAAAAAAAAI/AAAAAAAABEs/eKYmF5qDH1s/s50-c-k-no/photo.jpg",
      "userId": "116230313463027811477"
     },
     "user_tz": -420
    },
    "id": "jpJGHPVKAfJj",
    "outputId": "4cef0c7c-2dc4-48ac-b9d6-7daa908adf32"
   },
   "outputs": [
    {
     "name": "stdout",
     "output_type": "stream",
     "text": [
      "processor\t: 0\r\n",
      "vendor_id\t: GenuineIntel\r\n",
      "cpu family\t: 6\r\n",
      "model\t\t: 63\r\n",
      "model name\t: Intel(R) Xeon(R) CPU @ 2.30GHz\r\n",
      "stepping\t: 0\r\n",
      "microcode\t: 0x1\r\n",
      "cpu MHz\t\t: 2300.000\r\n",
      "cache size\t: 46080 KB\r\n",
      "physical id\t: 0\r\n",
      "siblings\t: 2\r\n",
      "core id\t\t: 0\r\n",
      "cpu cores\t: 1\r\n",
      "apicid\t\t: 0\r\n",
      "initial apicid\t: 0\r\n",
      "fpu\t\t: yes\r\n",
      "fpu_exception\t: yes\r\n",
      "cpuid level\t: 13\r\n",
      "wp\t\t: yes\r\n",
      "flags\t\t: fpu vme de pse tsc msr pae mce cx8 apic sep mtrr pge mca cmov pat pse36 clflush mmx fxsr sse sse2 ss ht syscall nx pdpe1gb rdtscp lm constant_tsc rep_good nopl xtopology nonstop_tsc eagerfpu pni pclmulqdq ssse3 fma cx16 sse4_1 sse4_2 x2apic movbe popcnt aes xsave avx f16c rdrand hypervisor lahf_lm abm kaiser fsgsbase tsc_adjust bmi1 avx2 smep bmi2 erms xsaveopt\r\n",
      "bugs\t\t:\r\n",
      "bogomips\t: 4600.00\r\n",
      "clflush size\t: 64\r\n",
      "cache_alignment\t: 64\r\n",
      "address sizes\t: 46 bits physical, 48 bits virtual\r\n",
      "power management:\r\n",
      "\r\n",
      "processor\t: 1\r\n",
      "vendor_id\t: GenuineIntel\r\n",
      "cpu family\t: 6\r\n",
      "model\t\t: 63\r\n",
      "model name\t: Intel(R) Xeon(R) CPU @ 2.30GHz\r\n",
      "stepping\t: 0\r\n",
      "microcode\t: 0x1\r\n",
      "cpu MHz\t\t: 2300.000\r\n",
      "cache size\t: 46080 KB\r\n",
      "physical id\t: 0\r\n",
      "siblings\t: 2\r\n",
      "core id\t\t: 0\r\n",
      "cpu cores\t: 1\r\n",
      "apicid\t\t: 1\r\n",
      "initial apicid\t: 1\r\n",
      "fpu\t\t: yes\r\n",
      "fpu_exception\t: yes\r\n",
      "cpuid level\t: 13\r\n",
      "wp\t\t: yes\r\n",
      "flags\t\t: fpu vme de pse tsc msr pae mce cx8 apic sep mtrr pge mca cmov pat pse36 clflush mmx fxsr sse sse2 ss ht syscall nx pdpe1gb rdtscp lm constant_tsc rep_good nopl xtopology nonstop_tsc eagerfpu pni pclmulqdq ssse3 fma cx16 sse4_1 sse4_2 x2apic movbe popcnt aes xsave avx f16c rdrand hypervisor lahf_lm abm kaiser fsgsbase tsc_adjust bmi1 avx2 smep bmi2 erms xsaveopt\r\n",
      "bugs\t\t:\r\n",
      "bogomips\t: 4600.00\r\n",
      "clflush size\t: 64\r\n",
      "cache_alignment\t: 64\r\n",
      "address sizes\t: 46 bits physical, 48 bits virtual\r\n",
      "power management:\r\n",
      "\r\n"
     ]
    }
   ],
   "source": [
    "!cat /proc/cpuinfo"
   ]
  },
  {
   "cell_type": "code",
   "execution_count": 0,
   "metadata": {
    "colab": {
     "autoexec": {
      "startup": false,
      "wait_interval": 0
     }
    },
    "colab_type": "code",
    "id": "k8aRIpkNAl_d"
   },
   "outputs": [],
   "source": []
  }
 ],
 "metadata": {
  "accelerator": "GPU",
  "colab": {
   "collapsed_sections": [],
   "default_view": {},
   "name": "Multilayer Perceptron.ipynb",
   "provenance": [],
   "version": "0.3.2",
   "views": {}
  },
  "kernelspec": {
   "display_name": "Python 3",
   "language": "python",
   "name": "python3"
  },
  "language_info": {
   "codemirror_mode": {
    "name": "ipython",
    "version": 3
   },
   "file_extension": ".py",
   "mimetype": "text/x-python",
   "name": "python",
   "nbconvert_exporter": "python",
   "pygments_lexer": "ipython3",
   "version": "3.6.4"
  }
 },
 "nbformat": 4,
 "nbformat_minor": 1
}
