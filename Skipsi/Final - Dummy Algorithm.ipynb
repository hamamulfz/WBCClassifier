{
 "cells": [
  {
   "cell_type": "code",
   "execution_count": 17,
   "metadata": {},
   "outputs": [],
   "source": [
    "def judge_model(model, name, plot=False):\n",
    "    print(name)\n",
    "    print('-'*20)\n",
    "    \n",
    "    from sklearn.metrics import accuracy_score\n",
    "    from sklearn.metrics import roc_auc_score\n",
    "    \n",
    "    print('Training Performance')\n",
    "    print('-> Acc:', float('{0:.4f}'.format(accuracy_score(y_train, model.predict(X_train)) ))*100)\n",
    "    #print('-> AUC:', roc_auc_score(y_train, model.predict_proba(X_train)[:, 1] ))\n",
    "    \n",
    "    print('Testing Performance')\n",
    "    print('-> Acc:', float('{0:.4f}'.format(accuracy_score(y_train, model.predict(X_train))))*100)\n",
    "    #print('-> AUC:', roc_auc_score(y_test, model.predict_proba(X_test)[:, 1] ))\n",
    "    print()\n"
   ]
  },
  {
   "cell_type": "code",
   "execution_count": 18,
   "metadata": {},
   "outputs": [],
   "source": [
    "import pandas as pd\n",
    "import numpy as np\n",
    "dataset = pd.read_excel('Urut-Data-20Fitur-20Citra-20Sel-20Darah.xlsx', header=0)"
   ]
  },
  {
   "cell_type": "code",
   "execution_count": 19,
   "metadata": {},
   "outputs": [],
   "source": [
    "import numpy as np\n",
    "y= np.array(dataset)[:,0]\n",
    "\n",
    "#membuat dataset input X\n",
    "X = np.array(dataset)[:,1:29]\n"
   ]
  },
  {
   "cell_type": "code",
   "execution_count": 20,
   "metadata": {},
   "outputs": [],
   "source": [
    "# Pisahkan dataset menjadi data latih dan uji dengan perbandingan 80:20\n",
    "from sklearn.cross_validation import train_test_split\n",
    "X_train, X_test, y_train, y_test = train_test_split( X, y, test_size=0.30, random_state=0)\n",
    "\n",
    "# Penyekalaan fitur dilakukan pada data latih dan uji.\n",
    "# Detail kenapa ini penting dijelaskan di sini: http://scikit-learn.org/stable/auto_examples/preprocessing/plot_scaling_importance.html\n",
    "from sklearn.preprocessing import StandardScaler\n",
    "sc = StandardScaler()\n",
    "\n",
    "# Fungsi fit_transform hanya dilakukan di data latih\n",
    "X_train = sc.fit_transform(X_train)\n",
    "X_test = sc.transform(X_test)"
   ]
  },
  {
   "cell_type": "code",
   "execution_count": 37,
   "metadata": {},
   "outputs": [
    {
     "name": "stdout",
     "output_type": "stream",
     "text": [
      "Dummy stratified\n",
      "--------------------\n",
      "Training Performance\n",
      "-> Acc: 33.050000000000004\n",
      "Testing Performance\n",
      "-> Acc: 33.050000000000004\n",
      "\n",
      "Dummy most_frequent\n",
      "--------------------\n",
      "Training Performance\n",
      "-> Acc: 41.53\n",
      "Testing Performance\n",
      "-> Acc: 41.53\n",
      "\n",
      "Dummy uniform\n",
      "--------------------\n",
      "Training Performance\n",
      "-> Acc: 22.88\n",
      "Testing Performance\n",
      "-> Acc: 15.25\n",
      "\n",
      "Dummy prior\n",
      "--------------------\n",
      "Training Performance\n",
      "-> Acc: 41.53\n",
      "Testing Performance\n",
      "-> Acc: 41.53\n",
      "\n"
     ]
    }
   ],
   "source": [
    "# Baseline (AUC should be 0.5 because we're guessing even though the accuracies are different)\n",
    "from sklearn.dummy import DummyClassifier\n",
    "for strategy in ['stratified', 'most_frequent', 'uniform', 'prior']:\n",
    "    dummy = DummyClassifier(strategy=strategy)\n",
    "    dummy.fit(X_train, y_train)\n",
    "    judge_model(dummy, 'Dummy {}'.format(strategy), plot=False )"
   ]
  },
  {
   "cell_type": "code",
   "execution_count": null,
   "metadata": {},
   "outputs": [],
   "source": []
  },
  {
   "cell_type": "code",
   "execution_count": null,
   "metadata": {},
   "outputs": [],
   "source": []
  }
 ],
 "metadata": {
  "kernelspec": {
   "display_name": "Python 3",
   "language": "python",
   "name": "python3"
  },
  "language_info": {
   "codemirror_mode": {
    "name": "ipython",
    "version": 3
   },
   "file_extension": ".py",
   "mimetype": "text/x-python",
   "name": "python",
   "nbconvert_exporter": "python",
   "pygments_lexer": "ipython3",
   "version": "3.6.4"
  }
 },
 "nbformat": 4,
 "nbformat_minor": 2
}
